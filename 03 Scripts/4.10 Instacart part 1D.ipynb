{
 "cells": [
  {
   "cell_type": "markdown",
   "id": "4987a82c",
   "metadata": {},
   "source": [
    "# Additional Insights #"
   ]
  },
  {
   "cell_type": "markdown",
   "id": "8c8f30ac",
   "metadata": {},
   "source": [
    "## SCRIPT CONTAINS:\n",
    "### Import Libraries\n",
    "### Import Data\n",
    "### Additional Insights\n",
    "#### family status and loyalty \n",
    "#### Order Frequency by department \n",
    "#### Price Range Comparison \n",
    "#### Crosstab of loyalty and price range\n",
    "#### Stacked bar chart of loyalt x price range stats\n",
    "#### crosstab of customer profile and price range\n",
    "#### crosstab spending habit by profile\n",
    "#### crosstab order frequency by customer profile\n",
    "#### crosstab family status distribution by region\n",
    "#### crosstab of spending habits by family status\n",
    "#### Crosstab of order frequency by family status"
   ]
  },
  {
   "cell_type": "code",
   "execution_count": 1,
   "id": "2f53ad1c",
   "metadata": {},
   "outputs": [],
   "source": [
    "# import libraries\n",
    "import pandas as pd\n",
    "import numpy as np\n",
    "import os\n",
    "import matplotlib.pyplot as plt\n",
    "import seaborn as sns\n",
    "import scipy"
   ]
  },
  {
   "cell_type": "code",
   "execution_count": 2,
   "id": "1dd7b683",
   "metadata": {},
   "outputs": [],
   "source": [
    "# Import Data \n",
    "path = r'C:\\Users\\Bradley Allen\\Desktop\\Instacart Basket Analysis'"
   ]
  },
  {
   "cell_type": "code",
   "execution_count": 3,
   "id": "a0a35e95",
   "metadata": {},
   "outputs": [],
   "source": [
    "final_df = pd.read_pickle(os.path.join(path, '02 Data', 'Prepared Data', 'Instacart_final3.pkl'))"
   ]
  },
  {
   "cell_type": "code",
   "execution_count": 4,
   "id": "1843d10e",
   "metadata": {},
   "outputs": [
    {
     "data": {
      "text/plain": [
       "(6164429, 33)"
      ]
     },
     "execution_count": 4,
     "metadata": {},
     "output_type": "execute_result"
    }
   ],
   "source": [
    "final_df.shape"
   ]
  },
  {
   "cell_type": "code",
   "execution_count": 5,
   "id": "be86159d",
   "metadata": {},
   "outputs": [
    {
     "data": {
      "text/html": [
       "<div>\n",
       "<style scoped>\n",
       "    .dataframe tbody tr th:only-of-type {\n",
       "        vertical-align: middle;\n",
       "    }\n",
       "\n",
       "    .dataframe tbody tr th {\n",
       "        vertical-align: top;\n",
       "    }\n",
       "\n",
       "    .dataframe thead th {\n",
       "        text-align: right;\n",
       "    }\n",
       "</style>\n",
       "<table border=\"1\" class=\"dataframe\">\n",
       "  <thead>\n",
       "    <tr style=\"text-align: right;\">\n",
       "      <th></th>\n",
       "      <th>order_id</th>\n",
       "      <th>user_id</th>\n",
       "      <th>order_number</th>\n",
       "      <th>orders_day_of_week</th>\n",
       "      <th>order_hour_of_day</th>\n",
       "      <th>days_since_prior_order</th>\n",
       "      <th>first_order</th>\n",
       "      <th>product_id</th>\n",
       "      <th>add_to_cart_order</th>\n",
       "      <th>product_name</th>\n",
       "      <th>...</th>\n",
       "      <th>fam_status</th>\n",
       "      <th>income</th>\n",
       "      <th>_merge</th>\n",
       "      <th>region</th>\n",
       "      <th>exclusion_flag</th>\n",
       "      <th>age_range</th>\n",
       "      <th>income_bracket</th>\n",
       "      <th>parental_status</th>\n",
       "      <th>customer_profile</th>\n",
       "      <th>price_range</th>\n",
       "    </tr>\n",
       "  </thead>\n",
       "  <tbody>\n",
       "    <tr>\n",
       "      <th>0</th>\n",
       "      <td>2539329</td>\n",
       "      <td>1</td>\n",
       "      <td>1</td>\n",
       "      <td>2</td>\n",
       "      <td>8</td>\n",
       "      <td>NaN</td>\n",
       "      <td>True</td>\n",
       "      <td>196</td>\n",
       "      <td>1</td>\n",
       "      <td>Soda</td>\n",
       "      <td>...</td>\n",
       "      <td>married</td>\n",
       "      <td>40423</td>\n",
       "      <td>both</td>\n",
       "      <td>South</td>\n",
       "      <td>Frequent Customer</td>\n",
       "      <td>30-39</td>\n",
       "      <td>&lt;100000</td>\n",
       "      <td>Parent</td>\n",
       "      <td>Young parent</td>\n",
       "      <td>Mid range product</td>\n",
       "    </tr>\n",
       "    <tr>\n",
       "      <th>1</th>\n",
       "      <td>2539329</td>\n",
       "      <td>1</td>\n",
       "      <td>1</td>\n",
       "      <td>2</td>\n",
       "      <td>8</td>\n",
       "      <td>NaN</td>\n",
       "      <td>True</td>\n",
       "      <td>12427</td>\n",
       "      <td>3</td>\n",
       "      <td>Original Beef Jerky</td>\n",
       "      <td>...</td>\n",
       "      <td>married</td>\n",
       "      <td>40423</td>\n",
       "      <td>both</td>\n",
       "      <td>South</td>\n",
       "      <td>Frequent Customer</td>\n",
       "      <td>30-39</td>\n",
       "      <td>&lt;100000</td>\n",
       "      <td>Parent</td>\n",
       "      <td>Young parent</td>\n",
       "      <td>Low range product</td>\n",
       "    </tr>\n",
       "    <tr>\n",
       "      <th>2</th>\n",
       "      <td>2398795</td>\n",
       "      <td>1</td>\n",
       "      <td>2</td>\n",
       "      <td>3</td>\n",
       "      <td>7</td>\n",
       "      <td>15.0</td>\n",
       "      <td>False</td>\n",
       "      <td>10258</td>\n",
       "      <td>2</td>\n",
       "      <td>Pistachios</td>\n",
       "      <td>...</td>\n",
       "      <td>married</td>\n",
       "      <td>40423</td>\n",
       "      <td>both</td>\n",
       "      <td>South</td>\n",
       "      <td>Frequent Customer</td>\n",
       "      <td>30-39</td>\n",
       "      <td>&lt;100000</td>\n",
       "      <td>Parent</td>\n",
       "      <td>Young parent</td>\n",
       "      <td>Low range product</td>\n",
       "    </tr>\n",
       "    <tr>\n",
       "      <th>3</th>\n",
       "      <td>473747</td>\n",
       "      <td>1</td>\n",
       "      <td>3</td>\n",
       "      <td>3</td>\n",
       "      <td>12</td>\n",
       "      <td>21.0</td>\n",
       "      <td>False</td>\n",
       "      <td>12427</td>\n",
       "      <td>2</td>\n",
       "      <td>Original Beef Jerky</td>\n",
       "      <td>...</td>\n",
       "      <td>married</td>\n",
       "      <td>40423</td>\n",
       "      <td>both</td>\n",
       "      <td>South</td>\n",
       "      <td>Frequent Customer</td>\n",
       "      <td>30-39</td>\n",
       "      <td>&lt;100000</td>\n",
       "      <td>Parent</td>\n",
       "      <td>Young parent</td>\n",
       "      <td>Low range product</td>\n",
       "    </tr>\n",
       "    <tr>\n",
       "      <th>4</th>\n",
       "      <td>473747</td>\n",
       "      <td>1</td>\n",
       "      <td>3</td>\n",
       "      <td>3</td>\n",
       "      <td>12</td>\n",
       "      <td>21.0</td>\n",
       "      <td>False</td>\n",
       "      <td>10258</td>\n",
       "      <td>3</td>\n",
       "      <td>Pistachios</td>\n",
       "      <td>...</td>\n",
       "      <td>married</td>\n",
       "      <td>40423</td>\n",
       "      <td>both</td>\n",
       "      <td>South</td>\n",
       "      <td>Frequent Customer</td>\n",
       "      <td>30-39</td>\n",
       "      <td>&lt;100000</td>\n",
       "      <td>Parent</td>\n",
       "      <td>Young parent</td>\n",
       "      <td>Low range product</td>\n",
       "    </tr>\n",
       "  </tbody>\n",
       "</table>\n",
       "<p>5 rows × 33 columns</p>\n",
       "</div>"
      ],
      "text/plain": [
       "   order_id  user_id  order_number  orders_day_of_week  order_hour_of_day  \\\n",
       "0   2539329        1             1                   2                  8   \n",
       "1   2539329        1             1                   2                  8   \n",
       "2   2398795        1             2                   3                  7   \n",
       "3    473747        1             3                   3                 12   \n",
       "4    473747        1             3                   3                 12   \n",
       "\n",
       "   days_since_prior_order  first_order  product_id  add_to_cart_order  \\\n",
       "0                     NaN         True         196                  1   \n",
       "1                     NaN         True       12427                  3   \n",
       "2                    15.0        False       10258                  2   \n",
       "3                    21.0        False       12427                  2   \n",
       "4                    21.0        False       10258                  3   \n",
       "\n",
       "          product_name  ...  fam_status  income  _merge  region  \\\n",
       "0                 Soda  ...     married   40423    both   South   \n",
       "1  Original Beef Jerky  ...     married   40423    both   South   \n",
       "2           Pistachios  ...     married   40423    both   South   \n",
       "3  Original Beef Jerky  ...     married   40423    both   South   \n",
       "4           Pistachios  ...     married   40423    both   South   \n",
       "\n",
       "      exclusion_flag  age_range income_bracket parental_status  \\\n",
       "0  Frequent Customer      30-39        <100000          Parent   \n",
       "1  Frequent Customer      30-39        <100000          Parent   \n",
       "2  Frequent Customer      30-39        <100000          Parent   \n",
       "3  Frequent Customer      30-39        <100000          Parent   \n",
       "4  Frequent Customer      30-39        <100000          Parent   \n",
       "\n",
       "  customer_profile        price_range  \n",
       "0     Young parent  Mid range product  \n",
       "1     Young parent  Low range product  \n",
       "2     Young parent  Low range product  \n",
       "3     Young parent  Low range product  \n",
       "4     Young parent  Low range product  \n",
       "\n",
       "[5 rows x 33 columns]"
      ]
     },
     "execution_count": 5,
     "metadata": {},
     "output_type": "execute_result"
    }
   ],
   "source": [
    "final_df.head()"
   ]
  },
  {
   "cell_type": "markdown",
   "id": "c413208c",
   "metadata": {},
   "source": [
    "## Additional Insights ##"
   ]
  },
  {
   "cell_type": "markdown",
   "id": "8db3fbb0",
   "metadata": {},
   "source": [
    "### family status and loyalty ###"
   ]
  },
  {
   "cell_type": "code",
   "execution_count": 6,
   "id": "73d81ba7",
   "metadata": {},
   "outputs": [],
   "source": [
    "xtab_fam_loyalty = pd.crosstab(final_df['fam_status'], final_df['loyalty_flag'], dropna = False)"
   ]
  },
  {
   "cell_type": "code",
   "execution_count": 7,
   "id": "08ce135c",
   "metadata": {},
   "outputs": [
    {
     "data": {
      "text/html": [
       "<div>\n",
       "<style scoped>\n",
       "    .dataframe tbody tr th:only-of-type {\n",
       "        vertical-align: middle;\n",
       "    }\n",
       "\n",
       "    .dataframe tbody tr th {\n",
       "        vertical-align: top;\n",
       "    }\n",
       "\n",
       "    .dataframe thead th {\n",
       "        text-align: right;\n",
       "    }\n",
       "</style>\n",
       "<table border=\"1\" class=\"dataframe\">\n",
       "  <thead>\n",
       "    <tr style=\"text-align: right;\">\n",
       "      <th>loyalty_flag</th>\n",
       "      <th>Loyal customer</th>\n",
       "      <th>New customer</th>\n",
       "      <th>Regular customer</th>\n",
       "    </tr>\n",
       "    <tr>\n",
       "      <th>fam_status</th>\n",
       "      <th></th>\n",
       "      <th></th>\n",
       "      <th></th>\n",
       "    </tr>\n",
       "  </thead>\n",
       "  <tbody>\n",
       "    <tr>\n",
       "      <th>divorced/widowed</th>\n",
       "      <td>174465</td>\n",
       "      <td>80569</td>\n",
       "      <td>271735</td>\n",
       "    </tr>\n",
       "    <tr>\n",
       "      <th>living with parents and siblings</th>\n",
       "      <td>97977</td>\n",
       "      <td>44316</td>\n",
       "      <td>153061</td>\n",
       "    </tr>\n",
       "    <tr>\n",
       "      <th>married</th>\n",
       "      <td>1431148</td>\n",
       "      <td>676919</td>\n",
       "      <td>2220944</td>\n",
       "    </tr>\n",
       "    <tr>\n",
       "      <th>single</th>\n",
       "      <td>337930</td>\n",
       "      <td>159128</td>\n",
       "      <td>516237</td>\n",
       "    </tr>\n",
       "  </tbody>\n",
       "</table>\n",
       "</div>"
      ],
      "text/plain": [
       "loyalty_flag                      Loyal customer  New customer  \\\n",
       "fam_status                                                       \n",
       "divorced/widowed                          174465         80569   \n",
       "living with parents and siblings           97977         44316   \n",
       "married                                  1431148        676919   \n",
       "single                                    337930        159128   \n",
       "\n",
       "loyalty_flag                      Regular customer  \n",
       "fam_status                                          \n",
       "divorced/widowed                            271735  \n",
       "living with parents and siblings            153061  \n",
       "married                                    2220944  \n",
       "single                                      516237  "
      ]
     },
     "execution_count": 7,
     "metadata": {},
     "output_type": "execute_result"
    }
   ],
   "source": [
    "xtab_fam_loyalty"
   ]
  },
  {
   "cell_type": "code",
   "execution_count": 8,
   "id": "0bdbfa19",
   "metadata": {},
   "outputs": [],
   "source": [
    "xtab_fam_loyalty.to_clipboard()"
   ]
  },
  {
   "cell_type": "markdown",
   "id": "c45cb799",
   "metadata": {},
   "source": [
    "### Order Frequency by department ###"
   ]
  },
  {
   "cell_type": "code",
   "execution_count": 10,
   "id": "7c5adc4a",
   "metadata": {},
   "outputs": [
    {
     "data": {
      "image/png": "[encoded data removed]",
      "text/plain": [
       "<Figure size 432x288 with 1 Axes>"
      ]
     },
     "metadata": {
      "needs_background": "light"
     },
     "output_type": "display_data"
    }
   ],
   "source": [
    "# Bar chart of order freq. based on item department\n",
    "dept_freq_bar = final_df['department_id'].value_counts().plot.bar(color = ['blue'], xlabel= 'Department ID', ylabel= 'Order Frequency', title =  'Order Frequency by Department ID')"
   ]
  },
  {
   "cell_type": "code",
   "execution_count": 11,
   "id": "da942441",
   "metadata": {},
   "outputs": [],
   "source": [
    "# Export bar chart as png file\n",
    "dept_freq_bar.figure.savefig(os.path.join(path, '04 Analysis', 'Visualizations', 'dept_freq_bar.png'))"
   ]
  },
  {
   "cell_type": "markdown",
   "id": "5d7d62db",
   "metadata": {},
   "source": [
    "### Price Range Comparison ###"
   ]
  },
  {
   "cell_type": "code",
   "execution_count": 12,
   "id": "8be40a50",
   "metadata": {},
   "outputs": [
    {
     "data": {
      "image/png": "[encoded data removed]",
      "text/plain": [
       "<Figure size 432x288 with 1 Axes>"
      ]
     },
     "metadata": {
      "needs_background": "light"
     },
     "output_type": "display_data"
    }
   ],
   "source": [
    "# Bar chart of orders by dept id and price\n",
    "price_range_bar = final_df['price_range'].value_counts().plot.barh(color = ['blue'], xlabel= 'Price Range', ylabel= 'N. of Orders', title= 'No. of Orders by Price Range')"
   ]
  },
  {
   "cell_type": "code",
   "execution_count": 13,
   "id": "fe054b5a",
   "metadata": {},
   "outputs": [],
   "source": [
    "# Export bar chart as png file\n",
    "price_range_bar.figure.savefig(os.path.join(path, '04 Analysis', 'Visualizations', 'price_range_bar.png'))"
   ]
  },
  {
   "cell_type": "markdown",
   "id": "0fe3ea42",
   "metadata": {},
   "source": [
    "### Crosstab of loyalty and price range ###"
   ]
  },
  {
   "cell_type": "code",
   "execution_count": 14,
   "id": "e38c823b",
   "metadata": {},
   "outputs": [],
   "source": [
    "xtab_avg_order_price_range = pd.crosstab(final_df['loyalty_flag'], final_df['price_range'], dropna = False)"
   ]
  },
  {
   "cell_type": "code",
   "execution_count": 15,
   "id": "6ece29db",
   "metadata": {},
   "outputs": [
    {
     "data": {
      "text/html": [
       "<div>\n",
       "<style scoped>\n",
       "    .dataframe tbody tr th:only-of-type {\n",
       "        vertical-align: middle;\n",
       "    }\n",
       "\n",
       "    .dataframe tbody tr th {\n",
       "        vertical-align: top;\n",
       "    }\n",
       "\n",
       "    .dataframe thead th {\n",
       "        text-align: right;\n",
       "    }\n",
       "</style>\n",
       "<table border=\"1\" class=\"dataframe\">\n",
       "  <thead>\n",
       "    <tr style=\"text-align: right;\">\n",
       "      <th>price_range</th>\n",
       "      <th>High range product</th>\n",
       "      <th>Low range product</th>\n",
       "      <th>Mid range product</th>\n",
       "    </tr>\n",
       "    <tr>\n",
       "      <th>loyalty_flag</th>\n",
       "      <th></th>\n",
       "      <th></th>\n",
       "      <th></th>\n",
       "    </tr>\n",
       "  </thead>\n",
       "  <tbody>\n",
       "    <tr>\n",
       "      <th>Loyal customer</th>\n",
       "      <td>23731</td>\n",
       "      <td>636809</td>\n",
       "      <td>1380980</td>\n",
       "    </tr>\n",
       "    <tr>\n",
       "      <th>New customer</th>\n",
       "      <td>12857</td>\n",
       "      <td>300878</td>\n",
       "      <td>647197</td>\n",
       "    </tr>\n",
       "    <tr>\n",
       "      <th>Regular customer</th>\n",
       "      <td>41761</td>\n",
       "      <td>987307</td>\n",
       "      <td>2132909</td>\n",
       "    </tr>\n",
       "  </tbody>\n",
       "</table>\n",
       "</div>"
      ],
      "text/plain": [
       "price_range       High range product  Low range product  Mid range product\n",
       "loyalty_flag                                                              \n",
       "Loyal customer                 23731             636809            1380980\n",
       "New customer                   12857             300878             647197\n",
       "Regular customer               41761             987307            2132909"
      ]
     },
     "execution_count": 15,
     "metadata": {},
     "output_type": "execute_result"
    }
   ],
   "source": [
    "xtab_avg_order_price_range"
   ]
  },
  {
   "cell_type": "code",
   "execution_count": 17,
   "id": "41a3072c",
   "metadata": {},
   "outputs": [],
   "source": [
    "xtab_avg_order_price_range.to_clipboard()"
   ]
  },
  {
   "cell_type": "code",
   "execution_count": 22,
   "id": "61030920",
   "metadata": {},
   "outputs": [
    {
     "data": {
      "image/png": "[encoded data removed]",
      "text/plain": [
       "<Figure size 432x288 with 1 Axes>"
      ]
     },
     "metadata": {
      "needs_background": "light"
     },
     "output_type": "display_data"
    }
   ],
   "source": [
    "### Stacked bar chart of loyalt x price range stats \n",
    "stacked_order_price = xtab_avg_order_price_range.plot.bar(color = ['blue', 'pink', 'orange'], title = 'Comparison of Products purchased by Loyalty Status', xlabel = 'Loyalty Status', ylabel = 'No. of Products', stacked = True)"
   ]
  },
  {
   "cell_type": "code",
   "execution_count": 23,
   "id": "f80c0e96",
   "metadata": {},
   "outputs": [],
   "source": [
    "# export stacked bar chart as PNG \n",
    "stacked_order_price.figure.savefig(os.path.join(path, '04 Analysis', 'Visualizations', 'stackedbar_price_loyalty.png'))"
   ]
  },
  {
   "cell_type": "code",
   "execution_count": 5,
   "id": "eee05bad",
   "metadata": {},
   "outputs": [],
   "source": [
    "# Creating a line chart, average number dependants by age of customer\n",
    "final_df_line = final_df[['age', 'n_dependants']]"
   ]
  },
  {
   "cell_type": "code",
   "execution_count": 6,
   "id": "b8afb582",
   "metadata": {},
   "outputs": [
    {
     "data": {
      "image/png": "[encoded data removed]",
      "text/plain": [
       "<Figure size 432x288 with 1 Axes>"
      ]
     },
     "metadata": {
      "needs_background": "light"
     },
     "output_type": "display_data"
    }
   ],
   "source": [
    "line_age_dependants = sns. lineplot(data = final_df_line, x = 'n_dependants', y = 'age')"
   ]
  },
  {
   "cell_type": "code",
   "execution_count": 10,
   "id": "177d265d",
   "metadata": {},
   "outputs": [],
   "source": [
    "# descriptive stats of number of dependants by age range of cusotmer\n",
    "dependants_stats = final_df.groupby('age_range').agg({'n_dependants': ['mean', 'min', 'max']})"
   ]
  },
  {
   "cell_type": "code",
   "execution_count": 11,
   "id": "810aa382",
   "metadata": {},
   "outputs": [
    {
     "data": {
      "text/html": [
       "<div>\n",
       "<style scoped>\n",
       "    .dataframe tbody tr th:only-of-type {\n",
       "        vertical-align: middle;\n",
       "    }\n",
       "\n",
       "    .dataframe tbody tr th {\n",
       "        vertical-align: top;\n",
       "    }\n",
       "\n",
       "    .dataframe thead tr th {\n",
       "        text-align: left;\n",
       "    }\n",
       "\n",
       "    .dataframe thead tr:last-of-type th {\n",
       "        text-align: right;\n",
       "    }\n",
       "</style>\n",
       "<table border=\"1\" class=\"dataframe\">\n",
       "  <thead>\n",
       "    <tr>\n",
       "      <th></th>\n",
       "      <th colspan=\"3\" halign=\"left\">n_dependants</th>\n",
       "    </tr>\n",
       "    <tr>\n",
       "      <th></th>\n",
       "      <th>mean</th>\n",
       "      <th>min</th>\n",
       "      <th>max</th>\n",
       "    </tr>\n",
       "    <tr>\n",
       "      <th>age_range</th>\n",
       "      <th></th>\n",
       "      <th></th>\n",
       "      <th></th>\n",
       "    </tr>\n",
       "  </thead>\n",
       "  <tbody>\n",
       "    <tr>\n",
       "      <th>20-29</th>\n",
       "      <td>1.495705</td>\n",
       "      <td>0</td>\n",
       "      <td>3</td>\n",
       "    </tr>\n",
       "    <tr>\n",
       "      <th>30-39</th>\n",
       "      <td>1.503328</td>\n",
       "      <td>0</td>\n",
       "      <td>3</td>\n",
       "    </tr>\n",
       "    <tr>\n",
       "      <th>40-49</th>\n",
       "      <td>1.500486</td>\n",
       "      <td>0</td>\n",
       "      <td>3</td>\n",
       "    </tr>\n",
       "    <tr>\n",
       "      <th>50-59</th>\n",
       "      <td>1.491391</td>\n",
       "      <td>0</td>\n",
       "      <td>3</td>\n",
       "    </tr>\n",
       "    <tr>\n",
       "      <th>60-69</th>\n",
       "      <td>1.509664</td>\n",
       "      <td>0</td>\n",
       "      <td>3</td>\n",
       "    </tr>\n",
       "    <tr>\n",
       "      <th>70-79</th>\n",
       "      <td>1.506598</td>\n",
       "      <td>0</td>\n",
       "      <td>3</td>\n",
       "    </tr>\n",
       "    <tr>\n",
       "      <th>80+</th>\n",
       "      <td>1.490447</td>\n",
       "      <td>0</td>\n",
       "      <td>3</td>\n",
       "    </tr>\n",
       "    <tr>\n",
       "      <th>&lt;19</th>\n",
       "      <td>1.542076</td>\n",
       "      <td>0</td>\n",
       "      <td>3</td>\n",
       "    </tr>\n",
       "  </tbody>\n",
       "</table>\n",
       "</div>"
      ],
      "text/plain": [
       "          n_dependants        \n",
       "                  mean min max\n",
       "age_range                     \n",
       "20-29         1.495705   0   3\n",
       "30-39         1.503328   0   3\n",
       "40-49         1.500486   0   3\n",
       "50-59         1.491391   0   3\n",
       "60-69         1.509664   0   3\n",
       "70-79         1.506598   0   3\n",
       "80+           1.490447   0   3\n",
       "<19           1.542076   0   3"
      ]
     },
     "execution_count": 11,
     "metadata": {},
     "output_type": "execute_result"
    }
   ],
   "source": [
    "dependants_stats"
   ]
  },
  {
   "cell_type": "code",
   "execution_count": 12,
   "id": "21959d31",
   "metadata": {},
   "outputs": [],
   "source": [
    "dependants_stats.to_clipboard()"
   ]
  },
  {
   "cell_type": "code",
   "execution_count": 15,
   "id": "89d665b9",
   "metadata": {},
   "outputs": [],
   "source": [
    "# crosstab for descriptive stats for customer profiles\n",
    "customer_demographics = final_df.groupby('customer_profile').agg({'age': ['mean', 'min', 'max']})"
   ]
  },
  {
   "cell_type": "code",
   "execution_count": 16,
   "id": "e5894575",
   "metadata": {},
   "outputs": [
    {
     "data": {
      "text/html": [
       "<div>\n",
       "<style scoped>\n",
       "    .dataframe tbody tr th:only-of-type {\n",
       "        vertical-align: middle;\n",
       "    }\n",
       "\n",
       "    .dataframe tbody tr th {\n",
       "        vertical-align: top;\n",
       "    }\n",
       "\n",
       "    .dataframe thead tr th {\n",
       "        text-align: left;\n",
       "    }\n",
       "\n",
       "    .dataframe thead tr:last-of-type th {\n",
       "        text-align: right;\n",
       "    }\n",
       "</style>\n",
       "<table border=\"1\" class=\"dataframe\">\n",
       "  <thead>\n",
       "    <tr>\n",
       "      <th></th>\n",
       "      <th colspan=\"3\" halign=\"left\">age</th>\n",
       "    </tr>\n",
       "    <tr>\n",
       "      <th></th>\n",
       "      <th>mean</th>\n",
       "      <th>min</th>\n",
       "      <th>max</th>\n",
       "    </tr>\n",
       "    <tr>\n",
       "      <th>customer_profile</th>\n",
       "      <th></th>\n",
       "      <th></th>\n",
       "      <th></th>\n",
       "    </tr>\n",
       "  </thead>\n",
       "  <tbody>\n",
       "    <tr>\n",
       "      <th>Higher earner</th>\n",
       "      <td>48.531709</td>\n",
       "      <td>41</td>\n",
       "      <td>59</td>\n",
       "    </tr>\n",
       "    <tr>\n",
       "      <th>Other</th>\n",
       "      <td>52.071026</td>\n",
       "      <td>18</td>\n",
       "      <td>81</td>\n",
       "    </tr>\n",
       "    <tr>\n",
       "      <th>Over 60</th>\n",
       "      <td>70.613824</td>\n",
       "      <td>60</td>\n",
       "      <td>81</td>\n",
       "    </tr>\n",
       "    <tr>\n",
       "      <th>Young parent</th>\n",
       "      <td>29.501443</td>\n",
       "      <td>20</td>\n",
       "      <td>39</td>\n",
       "    </tr>\n",
       "    <tr>\n",
       "      <th>Young single adult</th>\n",
       "      <td>28.570425</td>\n",
       "      <td>18</td>\n",
       "      <td>39</td>\n",
       "    </tr>\n",
       "  </tbody>\n",
       "</table>\n",
       "</div>"
      ],
      "text/plain": [
       "                          age        \n",
       "                         mean min max\n",
       "customer_profile                     \n",
       "Higher earner       48.531709  41  59\n",
       "Other               52.071026  18  81\n",
       "Over 60             70.613824  60  81\n",
       "Young parent        29.501443  20  39\n",
       "Young single adult  28.570425  18  39"
      ]
     },
     "execution_count": 16,
     "metadata": {},
     "output_type": "execute_result"
    }
   ],
   "source": [
    "customer_demographics"
   ]
  },
  {
   "cell_type": "code",
   "execution_count": 6,
   "id": "8df5624c",
   "metadata": {},
   "outputs": [],
   "source": [
    "pd.options.display.max_columns = None"
   ]
  },
  {
   "cell_type": "code",
   "execution_count": 7,
   "id": "44707834",
   "metadata": {},
   "outputs": [
    {
     "data": {
      "text/html": [
       "<div>\n",
       "<style scoped>\n",
       "    .dataframe tbody tr th:only-of-type {\n",
       "        vertical-align: middle;\n",
       "    }\n",
       "\n",
       "    .dataframe tbody tr th {\n",
       "        vertical-align: top;\n",
       "    }\n",
       "\n",
       "    .dataframe thead th {\n",
       "        text-align: right;\n",
       "    }\n",
       "</style>\n",
       "<table border=\"1\" class=\"dataframe\">\n",
       "  <thead>\n",
       "    <tr style=\"text-align: right;\">\n",
       "      <th></th>\n",
       "      <th>order_id</th>\n",
       "      <th>user_id</th>\n",
       "      <th>order_number</th>\n",
       "      <th>orders_day_of_week</th>\n",
       "      <th>order_hour_of_day</th>\n",
       "      <th>days_since_prior_order</th>\n",
       "      <th>first_order</th>\n",
       "      <th>product_id</th>\n",
       "      <th>add_to_cart_order</th>\n",
       "      <th>product_name</th>\n",
       "      <th>aisle_id</th>\n",
       "      <th>department_id</th>\n",
       "      <th>prices</th>\n",
       "      <th>max_order</th>\n",
       "      <th>loyalty_flag</th>\n",
       "      <th>user_avg_price</th>\n",
       "      <th>spending_habit</th>\n",
       "      <th>order_frequency</th>\n",
       "      <th>gender</th>\n",
       "      <th>state</th>\n",
       "      <th>age</th>\n",
       "      <th>date_joined</th>\n",
       "      <th>n_dependants</th>\n",
       "      <th>fam_status</th>\n",
       "      <th>income</th>\n",
       "      <th>_merge</th>\n",
       "      <th>region</th>\n",
       "      <th>exclusion_flag</th>\n",
       "      <th>age_range</th>\n",
       "      <th>income_bracket</th>\n",
       "      <th>parental_status</th>\n",
       "      <th>customer_profile</th>\n",
       "      <th>price_range</th>\n",
       "    </tr>\n",
       "  </thead>\n",
       "  <tbody>\n",
       "    <tr>\n",
       "      <th>0</th>\n",
       "      <td>2539329</td>\n",
       "      <td>1</td>\n",
       "      <td>1</td>\n",
       "      <td>2</td>\n",
       "      <td>8</td>\n",
       "      <td>NaN</td>\n",
       "      <td>True</td>\n",
       "      <td>196</td>\n",
       "      <td>1</td>\n",
       "      <td>Soda</td>\n",
       "      <td>77.0</td>\n",
       "      <td>7.0</td>\n",
       "      <td>9.0</td>\n",
       "      <td>10</td>\n",
       "      <td>New customer</td>\n",
       "      <td>5.175</td>\n",
       "      <td>Lower spender</td>\n",
       "      <td>NaN</td>\n",
       "      <td>Female</td>\n",
       "      <td>Alabama</td>\n",
       "      <td>31</td>\n",
       "      <td>2/17/2019</td>\n",
       "      <td>3</td>\n",
       "      <td>married</td>\n",
       "      <td>40423</td>\n",
       "      <td>both</td>\n",
       "      <td>South</td>\n",
       "      <td>Frequent Customer</td>\n",
       "      <td>30-39</td>\n",
       "      <td>&lt;100000</td>\n",
       "      <td>Parent</td>\n",
       "      <td>Young parent</td>\n",
       "      <td>Mid range product</td>\n",
       "    </tr>\n",
       "    <tr>\n",
       "      <th>1</th>\n",
       "      <td>2539329</td>\n",
       "      <td>1</td>\n",
       "      <td>1</td>\n",
       "      <td>2</td>\n",
       "      <td>8</td>\n",
       "      <td>NaN</td>\n",
       "      <td>True</td>\n",
       "      <td>12427</td>\n",
       "      <td>3</td>\n",
       "      <td>Original Beef Jerky</td>\n",
       "      <td>23.0</td>\n",
       "      <td>19.0</td>\n",
       "      <td>4.4</td>\n",
       "      <td>10</td>\n",
       "      <td>New customer</td>\n",
       "      <td>5.175</td>\n",
       "      <td>Lower spender</td>\n",
       "      <td>NaN</td>\n",
       "      <td>Female</td>\n",
       "      <td>Alabama</td>\n",
       "      <td>31</td>\n",
       "      <td>2/17/2019</td>\n",
       "      <td>3</td>\n",
       "      <td>married</td>\n",
       "      <td>40423</td>\n",
       "      <td>both</td>\n",
       "      <td>South</td>\n",
       "      <td>Frequent Customer</td>\n",
       "      <td>30-39</td>\n",
       "      <td>&lt;100000</td>\n",
       "      <td>Parent</td>\n",
       "      <td>Young parent</td>\n",
       "      <td>Low range product</td>\n",
       "    </tr>\n",
       "  </tbody>\n",
       "</table>\n",
       "</div>"
      ],
      "text/plain": [
       "   order_id  user_id  order_number  orders_day_of_week  order_hour_of_day  \\\n",
       "0   2539329        1             1                   2                  8   \n",
       "1   2539329        1             1                   2                  8   \n",
       "\n",
       "   days_since_prior_order  first_order  product_id  add_to_cart_order  \\\n",
       "0                     NaN         True         196                  1   \n",
       "1                     NaN         True       12427                  3   \n",
       "\n",
       "          product_name  aisle_id  department_id  prices  max_order  \\\n",
       "0                 Soda      77.0            7.0     9.0         10   \n",
       "1  Original Beef Jerky      23.0           19.0     4.4         10   \n",
       "\n",
       "   loyalty_flag  user_avg_price spending_habit order_frequency  gender  \\\n",
       "0  New customer           5.175  Lower spender             NaN  Female   \n",
       "1  New customer           5.175  Lower spender             NaN  Female   \n",
       "\n",
       "     state  age date_joined  n_dependants fam_status  income _merge region  \\\n",
       "0  Alabama   31   2/17/2019             3    married   40423   both  South   \n",
       "1  Alabama   31   2/17/2019             3    married   40423   both  South   \n",
       "\n",
       "      exclusion_flag age_range income_bracket parental_status  \\\n",
       "0  Frequent Customer     30-39        <100000          Parent   \n",
       "1  Frequent Customer     30-39        <100000          Parent   \n",
       "\n",
       "  customer_profile        price_range  \n",
       "0     Young parent  Mid range product  \n",
       "1     Young parent  Low range product  "
      ]
     },
     "execution_count": 7,
     "metadata": {},
     "output_type": "execute_result"
    }
   ],
   "source": [
    "final_df.head(2)"
   ]
  },
  {
   "cell_type": "code",
   "execution_count": 18,
   "id": "c3eff62f",
   "metadata": {},
   "outputs": [],
   "source": [
    "# Crosstab customer profile x order price descriptives\n",
    "cust_demo_price = final_df.groupby('customer_profile').agg({'prices': ['mean', 'min', 'max']})"
   ]
  },
  {
   "cell_type": "code",
   "execution_count": 19,
   "id": "cfd8dc54",
   "metadata": {},
   "outputs": [
    {
     "data": {
      "text/html": [
       "<div>\n",
       "<style scoped>\n",
       "    .dataframe tbody tr th:only-of-type {\n",
       "        vertical-align: middle;\n",
       "    }\n",
       "\n",
       "    .dataframe tbody tr th {\n",
       "        vertical-align: top;\n",
       "    }\n",
       "\n",
       "    .dataframe thead tr th {\n",
       "        text-align: left;\n",
       "    }\n",
       "\n",
       "    .dataframe thead tr:last-of-type th {\n",
       "        text-align: right;\n",
       "    }\n",
       "</style>\n",
       "<table border=\"1\" class=\"dataframe\">\n",
       "  <thead>\n",
       "    <tr>\n",
       "      <th></th>\n",
       "      <th colspan=\"3\" halign=\"left\">prices</th>\n",
       "    </tr>\n",
       "    <tr>\n",
       "      <th></th>\n",
       "      <th>mean</th>\n",
       "      <th>min</th>\n",
       "      <th>max</th>\n",
       "    </tr>\n",
       "    <tr>\n",
       "      <th>customer_profile</th>\n",
       "      <th></th>\n",
       "      <th></th>\n",
       "      <th></th>\n",
       "    </tr>\n",
       "  </thead>\n",
       "  <tbody>\n",
       "    <tr>\n",
       "      <th>Higher earner</th>\n",
       "      <td>7.786254</td>\n",
       "      <td>1.0</td>\n",
       "      <td>25.0</td>\n",
       "    </tr>\n",
       "    <tr>\n",
       "      <th>Other</th>\n",
       "      <td>7.795092</td>\n",
       "      <td>1.0</td>\n",
       "      <td>25.0</td>\n",
       "    </tr>\n",
       "    <tr>\n",
       "      <th>Over 60</th>\n",
       "      <td>7.804677</td>\n",
       "      <td>1.0</td>\n",
       "      <td>25.0</td>\n",
       "    </tr>\n",
       "    <tr>\n",
       "      <th>Young parent</th>\n",
       "      <td>7.780429</td>\n",
       "      <td>1.0</td>\n",
       "      <td>25.0</td>\n",
       "    </tr>\n",
       "    <tr>\n",
       "      <th>Young single adult</th>\n",
       "      <td>7.775769</td>\n",
       "      <td>1.0</td>\n",
       "      <td>25.0</td>\n",
       "    </tr>\n",
       "  </tbody>\n",
       "</table>\n",
       "</div>"
      ],
      "text/plain": [
       "                      prices           \n",
       "                        mean  min   max\n",
       "customer_profile                       \n",
       "Higher earner       7.786254  1.0  25.0\n",
       "Other               7.795092  1.0  25.0\n",
       "Over 60             7.804677  1.0  25.0\n",
       "Young parent        7.780429  1.0  25.0\n",
       "Young single adult  7.775769  1.0  25.0"
      ]
     },
     "execution_count": 19,
     "metadata": {},
     "output_type": "execute_result"
    }
   ],
   "source": [
    "cust_demo_price"
   ]
  },
  {
   "cell_type": "code",
   "execution_count": 24,
   "id": "98e76e4d",
   "metadata": {},
   "outputs": [],
   "source": [
    "cust_demo_price.to_clipboard()"
   ]
  },
  {
   "cell_type": "code",
   "execution_count": 8,
   "id": "e392d377",
   "metadata": {},
   "outputs": [],
   "source": [
    "## crosstab of customer profile and price range\n",
    "axtab_customer_demo_pricerange = pd.crosstab(final_df['customer_profile'], final_df['price_range'], dropna = False)"
   ]
  },
  {
   "cell_type": "code",
   "execution_count": 9,
   "id": "b0c262b7",
   "metadata": {},
   "outputs": [
    {
     "data": {
      "text/html": [
       "<div>\n",
       "<style scoped>\n",
       "    .dataframe tbody tr th:only-of-type {\n",
       "        vertical-align: middle;\n",
       "    }\n",
       "\n",
       "    .dataframe tbody tr th {\n",
       "        vertical-align: top;\n",
       "    }\n",
       "\n",
       "    .dataframe thead th {\n",
       "        text-align: right;\n",
       "    }\n",
       "</style>\n",
       "<table border=\"1\" class=\"dataframe\">\n",
       "  <thead>\n",
       "    <tr style=\"text-align: right;\">\n",
       "      <th>price_range</th>\n",
       "      <th>High range product</th>\n",
       "      <th>Low range product</th>\n",
       "      <th>Mid range product</th>\n",
       "    </tr>\n",
       "    <tr>\n",
       "      <th>customer_profile</th>\n",
       "      <th></th>\n",
       "      <th></th>\n",
       "      <th></th>\n",
       "    </tr>\n",
       "  </thead>\n",
       "  <tbody>\n",
       "    <tr>\n",
       "      <th>Higher earner</th>\n",
       "      <td>43</td>\n",
       "      <td>1015</td>\n",
       "      <td>2143</td>\n",
       "    </tr>\n",
       "    <tr>\n",
       "      <th>Other</th>\n",
       "      <td>33925</td>\n",
       "      <td>828301</td>\n",
       "      <td>1789712</td>\n",
       "    </tr>\n",
       "    <tr>\n",
       "      <th>Over 60</th>\n",
       "      <td>20222</td>\n",
       "      <td>481845</td>\n",
       "      <td>1046973</td>\n",
       "    </tr>\n",
       "    <tr>\n",
       "      <th>Young parent</th>\n",
       "      <td>17863</td>\n",
       "      <td>449478</td>\n",
       "      <td>967667</td>\n",
       "    </tr>\n",
       "    <tr>\n",
       "      <th>Young single adult</th>\n",
       "      <td>6296</td>\n",
       "      <td>164355</td>\n",
       "      <td>354591</td>\n",
       "    </tr>\n",
       "  </tbody>\n",
       "</table>\n",
       "</div>"
      ],
      "text/plain": [
       "price_range         High range product  Low range product  Mid range product\n",
       "customer_profile                                                            \n",
       "Higher earner                       43               1015               2143\n",
       "Other                            33925             828301            1789712\n",
       "Over 60                          20222             481845            1046973\n",
       "Young parent                     17863             449478             967667\n",
       "Young single adult                6296             164355             354591"
      ]
     },
     "execution_count": 9,
     "metadata": {},
     "output_type": "execute_result"
    }
   ],
   "source": [
    "axtab_customer_demo_pricerange"
   ]
  },
  {
   "cell_type": "code",
   "execution_count": 10,
   "id": "70679e9d",
   "metadata": {},
   "outputs": [],
   "source": [
    "axtab_customer_demo_pricerange.to_clipboard()"
   ]
  },
  {
   "cell_type": "code",
   "execution_count": 11,
   "id": "580507fe",
   "metadata": {},
   "outputs": [],
   "source": [
    "## xtab spending habit by profile\n",
    "xtab_profile_type_spending_habit = pd.crosstab(final_df['customer_profile'], final_df['spending_habit'], dropna = False)"
   ]
  },
  {
   "cell_type": "code",
   "execution_count": 12,
   "id": "cd6e93be",
   "metadata": {},
   "outputs": [
    {
     "data": {
      "text/html": [
       "<div>\n",
       "<style scoped>\n",
       "    .dataframe tbody tr th:only-of-type {\n",
       "        vertical-align: middle;\n",
       "    }\n",
       "\n",
       "    .dataframe tbody tr th {\n",
       "        vertical-align: top;\n",
       "    }\n",
       "\n",
       "    .dataframe thead th {\n",
       "        text-align: right;\n",
       "    }\n",
       "</style>\n",
       "<table border=\"1\" class=\"dataframe\">\n",
       "  <thead>\n",
       "    <tr style=\"text-align: right;\">\n",
       "      <th>spending_habit</th>\n",
       "      <th>Higher spender</th>\n",
       "      <th>Lower spender</th>\n",
       "    </tr>\n",
       "    <tr>\n",
       "      <th>customer_profile</th>\n",
       "      <th></th>\n",
       "      <th></th>\n",
       "    </tr>\n",
       "  </thead>\n",
       "  <tbody>\n",
       "    <tr>\n",
       "      <th>Higher earner</th>\n",
       "      <td>0</td>\n",
       "      <td>3201</td>\n",
       "    </tr>\n",
       "    <tr>\n",
       "      <th>Other</th>\n",
       "      <td>37247</td>\n",
       "      <td>2614691</td>\n",
       "    </tr>\n",
       "    <tr>\n",
       "      <th>Over 60</th>\n",
       "      <td>20096</td>\n",
       "      <td>1528944</td>\n",
       "    </tr>\n",
       "    <tr>\n",
       "      <th>Young parent</th>\n",
       "      <td>17873</td>\n",
       "      <td>1417135</td>\n",
       "    </tr>\n",
       "    <tr>\n",
       "      <th>Young single adult</th>\n",
       "      <td>6253</td>\n",
       "      <td>518989</td>\n",
       "    </tr>\n",
       "  </tbody>\n",
       "</table>\n",
       "</div>"
      ],
      "text/plain": [
       "spending_habit      Higher spender  Lower spender\n",
       "customer_profile                                 \n",
       "Higher earner                    0           3201\n",
       "Other                        37247        2614691\n",
       "Over 60                      20096        1528944\n",
       "Young parent                 17873        1417135\n",
       "Young single adult            6253         518989"
      ]
     },
     "execution_count": 12,
     "metadata": {},
     "output_type": "execute_result"
    }
   ],
   "source": [
    "xtab_profile_type_spending_habit"
   ]
  },
  {
   "cell_type": "code",
   "execution_count": 13,
   "id": "ac068380",
   "metadata": {},
   "outputs": [],
   "source": [
    "xtab_profile_type_spending_habit.to_clipboard()"
   ]
  },
  {
   "cell_type": "code",
   "execution_count": 14,
   "id": "71024019",
   "metadata": {},
   "outputs": [],
   "source": [
    "## crosstab order frequency by customer profile\n",
    "xtab_customertype_freq = pd.crosstab(final_df['customer_profile'], final_df['order_frequency'], dropna = False)"
   ]
  },
  {
   "cell_type": "code",
   "execution_count": 15,
   "id": "02ad0771",
   "metadata": {},
   "outputs": [
    {
     "data": {
      "text/html": [
       "<div>\n",
       "<style scoped>\n",
       "    .dataframe tbody tr th:only-of-type {\n",
       "        vertical-align: middle;\n",
       "    }\n",
       "\n",
       "    .dataframe tbody tr th {\n",
       "        vertical-align: top;\n",
       "    }\n",
       "\n",
       "    .dataframe thead th {\n",
       "        text-align: right;\n",
       "    }\n",
       "</style>\n",
       "<table border=\"1\" class=\"dataframe\">\n",
       "  <thead>\n",
       "    <tr style=\"text-align: right;\">\n",
       "      <th>order_frequency</th>\n",
       "      <th>Frequent customer</th>\n",
       "      <th>Non-frequent customer</th>\n",
       "    </tr>\n",
       "    <tr>\n",
       "      <th>customer_profile</th>\n",
       "      <th></th>\n",
       "      <th></th>\n",
       "    </tr>\n",
       "  </thead>\n",
       "  <tbody>\n",
       "    <tr>\n",
       "      <th>Higher earner</th>\n",
       "      <td>2001</td>\n",
       "      <td>424</td>\n",
       "    </tr>\n",
       "    <tr>\n",
       "      <th>Other</th>\n",
       "      <td>1609797</td>\n",
       "      <td>403415</td>\n",
       "    </tr>\n",
       "    <tr>\n",
       "      <th>Over 60</th>\n",
       "      <td>942147</td>\n",
       "      <td>234097</td>\n",
       "    </tr>\n",
       "    <tr>\n",
       "      <th>Young parent</th>\n",
       "      <td>874353</td>\n",
       "      <td>213778</td>\n",
       "    </tr>\n",
       "    <tr>\n",
       "      <th>Young single adult</th>\n",
       "      <td>316851</td>\n",
       "      <td>80463</td>\n",
       "    </tr>\n",
       "  </tbody>\n",
       "</table>\n",
       "</div>"
      ],
      "text/plain": [
       "order_frequency     Frequent customer  Non-frequent customer\n",
       "customer_profile                                            \n",
       "Higher earner                    2001                    424\n",
       "Other                         1609797                 403415\n",
       "Over 60                        942147                 234097\n",
       "Young parent                   874353                 213778\n",
       "Young single adult             316851                  80463"
      ]
     },
     "execution_count": 15,
     "metadata": {},
     "output_type": "execute_result"
    }
   ],
   "source": [
    "xtab_customertype_freq"
   ]
  },
  {
   "cell_type": "code",
   "execution_count": 16,
   "id": "9f247af6",
   "metadata": {},
   "outputs": [],
   "source": [
    "xtab_customertype_freq.to_clipboard()"
   ]
  },
  {
   "cell_type": "code",
   "execution_count": 18,
   "id": "c378f6cf",
   "metadata": {},
   "outputs": [],
   "source": [
    "## family status distribution by region\n",
    "xtab_fam_region = pd.crosstab(final_df['region'], final_df['fam_status'], dropna = False)"
   ]
  },
  {
   "cell_type": "code",
   "execution_count": 19,
   "id": "81f4fc48",
   "metadata": {},
   "outputs": [
    {
     "data": {
      "text/html": [
       "<div>\n",
       "<style scoped>\n",
       "    .dataframe tbody tr th:only-of-type {\n",
       "        vertical-align: middle;\n",
       "    }\n",
       "\n",
       "    .dataframe tbody tr th {\n",
       "        vertical-align: top;\n",
       "    }\n",
       "\n",
       "    .dataframe thead th {\n",
       "        text-align: right;\n",
       "    }\n",
       "</style>\n",
       "<table border=\"1\" class=\"dataframe\">\n",
       "  <thead>\n",
       "    <tr style=\"text-align: right;\">\n",
       "      <th>fam_status</th>\n",
       "      <th>divorced/widowed</th>\n",
       "      <th>living with parents and siblings</th>\n",
       "      <th>married</th>\n",
       "      <th>single</th>\n",
       "    </tr>\n",
       "    <tr>\n",
       "      <th>region</th>\n",
       "      <th></th>\n",
       "      <th></th>\n",
       "      <th></th>\n",
       "      <th></th>\n",
       "    </tr>\n",
       "  </thead>\n",
       "  <tbody>\n",
       "    <tr>\n",
       "      <th>Midwest</th>\n",
       "      <td>122931</td>\n",
       "      <td>70457</td>\n",
       "      <td>1013314</td>\n",
       "      <td>239995</td>\n",
       "    </tr>\n",
       "    <tr>\n",
       "      <th>Northeast</th>\n",
       "      <td>95263</td>\n",
       "      <td>51242</td>\n",
       "      <td>766410</td>\n",
       "      <td>173684</td>\n",
       "    </tr>\n",
       "    <tr>\n",
       "      <th>South</th>\n",
       "      <td>174610</td>\n",
       "      <td>100268</td>\n",
       "      <td>1438376</td>\n",
       "      <td>339474</td>\n",
       "    </tr>\n",
       "    <tr>\n",
       "      <th>West</th>\n",
       "      <td>123773</td>\n",
       "      <td>66306</td>\n",
       "      <td>1024114</td>\n",
       "      <td>240795</td>\n",
       "    </tr>\n",
       "  </tbody>\n",
       "</table>\n",
       "</div>"
      ],
      "text/plain": [
       "fam_status  divorced/widowed  living with parents and siblings  married  \\\n",
       "region                                                                    \n",
       "Midwest               122931                             70457  1013314   \n",
       "Northeast              95263                             51242   766410   \n",
       "South                 174610                            100268  1438376   \n",
       "West                  123773                             66306  1024114   \n",
       "\n",
       "fam_status  single  \n",
       "region              \n",
       "Midwest     239995  \n",
       "Northeast   173684  \n",
       "South       339474  \n",
       "West        240795  "
      ]
     },
     "execution_count": 19,
     "metadata": {},
     "output_type": "execute_result"
    }
   ],
   "source": [
    "xtab_fam_region"
   ]
  },
  {
   "cell_type": "code",
   "execution_count": 20,
   "id": "8aba7cde",
   "metadata": {},
   "outputs": [],
   "source": [
    "xtab_fam_region.to_clipboard()"
   ]
  },
  {
   "cell_type": "code",
   "execution_count": 22,
   "id": "b134ee01",
   "metadata": {},
   "outputs": [],
   "source": [
    "## crosstab of spending habits by family status\n",
    "xtab_fam_spending = pd.crosstab(final_df['fam_status'], final_df['spending_habit'], dropna = False)"
   ]
  },
  {
   "cell_type": "code",
   "execution_count": 23,
   "id": "378f35c4",
   "metadata": {},
   "outputs": [
    {
     "data": {
      "text/html": [
       "<div>\n",
       "<style scoped>\n",
       "    .dataframe tbody tr th:only-of-type {\n",
       "        vertical-align: middle;\n",
       "    }\n",
       "\n",
       "    .dataframe tbody tr th {\n",
       "        vertical-align: top;\n",
       "    }\n",
       "\n",
       "    .dataframe thead th {\n",
       "        text-align: right;\n",
       "    }\n",
       "</style>\n",
       "<table border=\"1\" class=\"dataframe\">\n",
       "  <thead>\n",
       "    <tr style=\"text-align: right;\">\n",
       "      <th>spending_habit</th>\n",
       "      <th>Higher spender</th>\n",
       "      <th>Lower spender</th>\n",
       "    </tr>\n",
       "    <tr>\n",
       "      <th>fam_status</th>\n",
       "      <th></th>\n",
       "      <th></th>\n",
       "    </tr>\n",
       "  </thead>\n",
       "  <tbody>\n",
       "    <tr>\n",
       "      <th>divorced/widowed</th>\n",
       "      <td>6925</td>\n",
       "      <td>519844</td>\n",
       "    </tr>\n",
       "    <tr>\n",
       "      <th>living with parents and siblings</th>\n",
       "      <td>3642</td>\n",
       "      <td>291712</td>\n",
       "    </tr>\n",
       "    <tr>\n",
       "      <th>married</th>\n",
       "      <td>57269</td>\n",
       "      <td>4271742</td>\n",
       "    </tr>\n",
       "    <tr>\n",
       "      <th>single</th>\n",
       "      <td>13633</td>\n",
       "      <td>999662</td>\n",
       "    </tr>\n",
       "  </tbody>\n",
       "</table>\n",
       "</div>"
      ],
      "text/plain": [
       "spending_habit                    Higher spender  Lower spender\n",
       "fam_status                                                     \n",
       "divorced/widowed                            6925         519844\n",
       "living with parents and siblings            3642         291712\n",
       "married                                    57269        4271742\n",
       "single                                     13633         999662"
      ]
     },
     "execution_count": 23,
     "metadata": {},
     "output_type": "execute_result"
    }
   ],
   "source": [
    "xtab_fam_spending"
   ]
  },
  {
   "cell_type": "code",
   "execution_count": 24,
   "id": "b0a4474b",
   "metadata": {},
   "outputs": [],
   "source": [
    "xtab_fam_spending.to_clipboard()"
   ]
  },
  {
   "cell_type": "code",
   "execution_count": 25,
   "id": "ebde3720",
   "metadata": {},
   "outputs": [],
   "source": [
    "## Crosstab of order frequency by family status\n",
    "xtab_fam_freq = pd.crosstab(final_df['fam_status'], final_df['order_frequency'], dropna = False)"
   ]
  },
  {
   "cell_type": "code",
   "execution_count": 26,
   "id": "d4459cbf",
   "metadata": {},
   "outputs": [
    {
     "data": {
      "text/html": [
       "<div>\n",
       "<style scoped>\n",
       "    .dataframe tbody tr th:only-of-type {\n",
       "        vertical-align: middle;\n",
       "    }\n",
       "\n",
       "    .dataframe tbody tr th {\n",
       "        vertical-align: top;\n",
       "    }\n",
       "\n",
       "    .dataframe thead th {\n",
       "        text-align: right;\n",
       "    }\n",
       "</style>\n",
       "<table border=\"1\" class=\"dataframe\">\n",
       "  <thead>\n",
       "    <tr style=\"text-align: right;\">\n",
       "      <th>order_frequency</th>\n",
       "      <th>Frequent customer</th>\n",
       "      <th>Non-frequent customer</th>\n",
       "    </tr>\n",
       "    <tr>\n",
       "      <th>fam_status</th>\n",
       "      <th></th>\n",
       "      <th></th>\n",
       "    </tr>\n",
       "  </thead>\n",
       "  <tbody>\n",
       "    <tr>\n",
       "      <th>divorced/widowed</th>\n",
       "      <td>322070</td>\n",
       "      <td>78887</td>\n",
       "    </tr>\n",
       "    <tr>\n",
       "      <th>living with parents and siblings</th>\n",
       "      <td>180697</td>\n",
       "      <td>44135</td>\n",
       "    </tr>\n",
       "    <tr>\n",
       "      <th>married</th>\n",
       "      <td>2626917</td>\n",
       "      <td>656063</td>\n",
       "    </tr>\n",
       "    <tr>\n",
       "      <th>single</th>\n",
       "      <td>615465</td>\n",
       "      <td>153092</td>\n",
       "    </tr>\n",
       "  </tbody>\n",
       "</table>\n",
       "</div>"
      ],
      "text/plain": [
       "order_frequency                   Frequent customer  Non-frequent customer\n",
       "fam_status                                                                \n",
       "divorced/widowed                             322070                  78887\n",
       "living with parents and siblings             180697                  44135\n",
       "married                                     2626917                 656063\n",
       "single                                       615465                 153092"
      ]
     },
     "execution_count": 26,
     "metadata": {},
     "output_type": "execute_result"
    }
   ],
   "source": [
    "xtab_fam_freq"
   ]
  },
  {
   "cell_type": "code",
   "execution_count": 27,
   "id": "545962b9",
   "metadata": {},
   "outputs": [],
   "source": [
    "xtab_fam_freq.to_clipboard()"
   ]
  },
  {
   "cell_type": "code",
   "execution_count": null,
   "id": "6bd334fb",
   "metadata": {},
   "outputs": [],
   "source": []
  }
 ],
 "metadata": {
  "kernelspec": {
   "display_name": "Python 3 (ipykernel)",
   "language": "python",
   "name": "python3"
  },
  "language_info": {
   "codemirror_mode": {
    "name": "ipython",
    "version": 3
   },
   "file_extension": ".py",
   "mimetype": "text/x-python",
   "name": "python",
   "nbconvert_exporter": "python",
   "pygments_lexer": "ipython3",
   "version": "3.9.7"
  }
 },
 "nbformat": 4,
 "nbformat_minor": 5
}
