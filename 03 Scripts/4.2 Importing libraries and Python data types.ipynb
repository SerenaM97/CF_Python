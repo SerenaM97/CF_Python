{
 "cells": [
  {
   "cell_type": "markdown",
   "id": "b9fc9d99",
   "metadata": {},
   "source": [
    "# 01. Importing Libraries"
   ]
  },
  {
   "cell_type": "code",
   "execution_count": 5,
   "id": "5367fa4e",
   "metadata": {},
   "outputs": [],
   "source": [
    "# Import libraries\n",
    "import pandas as pd\n",
    "import numpy as np\n",
    "import os"
   ]
  },
  {
   "cell_type": "markdown",
   "id": "1df695a7",
   "metadata": {},
   "source": [
    "02. Data Types"
   ]
  },
  {
   "cell_type": "code",
   "execution_count": 28,
   "id": "13631097",
   "metadata": {},
   "outputs": [
    {
     "data": {
      "text/plain": [
       "100"
      ]
     },
     "execution_count": 28,
     "metadata": {},
     "output_type": "execute_result"
    }
   ],
   "source": [
    "# reach 100 way 1\n",
    "20 + 80"
   ]
  },
  {
   "cell_type": "code",
   "execution_count": 30,
   "id": "1fe3c657",
   "metadata": {},
   "outputs": [],
   "source": [
    "# reach 100 way 2\n",
    "a = 105\n",
    "b = 5"
   ]
  },
  {
   "cell_type": "code",
   "execution_count": 31,
   "id": "d6631dfa",
   "metadata": {},
   "outputs": [
    {
     "data": {
      "text/plain": [
       "100"
      ]
     },
     "execution_count": 31,
     "metadata": {},
     "output_type": "execute_result"
    }
   ],
   "source": [
    "a - b "
   ]
  },
  {
   "cell_type": "code",
   "execution_count": 32,
   "id": "ed8ec3dc",
   "metadata": {},
   "outputs": [
    {
     "data": {
      "text/plain": [
       "100"
      ]
     },
     "execution_count": 32,
     "metadata": {},
     "output_type": "execute_result"
    }
   ],
   "source": [
    "# reach 100 way 3\n",
    "b = 5\n",
    "c = 95\n",
    "b + c"
   ]
  },
  {
   "cell_type": "code",
   "execution_count": 33,
   "id": "cec6b893",
   "metadata": {},
   "outputs": [
    {
     "data": {
      "text/plain": [
       "2.4705882352941178"
      ]
     },
     "execution_count": 33,
     "metadata": {},
     "output_type": "execute_result"
    }
   ],
   "source": [
    "# floating-point variables\n",
    "d = 10.5\n",
    "e = 4.25\n",
    "d / e"
   ]
  },
  {
   "cell_type": "code",
   "execution_count": 34,
   "id": "bd2ecb6f",
   "metadata": {},
   "outputs": [
    {
     "data": {
      "text/plain": [
       "'Hello,friend'"
      ]
     },
     "execution_count": 34,
     "metadata": {},
     "output_type": "execute_result"
    }
   ],
   "source": [
    "# string words\n",
    "f = 'Hello,'\n",
    "g = 'friend'\n",
    "f + g"
   ]
  },
  {
   "cell_type": "code",
   "execution_count": 36,
   "id": "fa83847f",
   "metadata": {},
   "outputs": [
    {
     "data": {
      "text/plain": [
       "'I like dogs.'"
      ]
     },
     "execution_count": 36,
     "metadata": {},
     "output_type": "execute_result"
    }
   ],
   "source": [
    "#string sentences 1\n",
    "i = 'I '\n",
    "j = 'like '\n",
    "k = 'dogs.'\n",
    "i + j + k"
   ]
  },
  {
   "cell_type": "code",
   "execution_count": 37,
   "id": "06add50a",
   "metadata": {},
   "outputs": [
    {
     "data": {
      "text/plain": [
       "'Do you like cats?'"
      ]
     },
     "execution_count": 37,
     "metadata": {},
     "output_type": "execute_result"
    }
   ],
   "source": [
    "# string sentences 2\n",
    "l = 'Do '\n",
    "m = 'you '\n",
    "n = 'cats?'\n",
    "l + m + j + n"
   ]
  }
 ],
 "metadata": {
  "kernelspec": {
   "display_name": "Python 3 (ipykernel)",
   "language": "python",
   "name": "python3"
  },
  "language_info": {
   "codemirror_mode": {
    "name": "ipython",
    "version": 3
   },
   "file_extension": ".py",
   "mimetype": "text/x-python",
   "name": "python",
   "nbconvert_exporter": "python",
   "pygments_lexer": "ipython3",
   "version": "3.9.7"
  }
 },
 "nbformat": 4,
 "nbformat_minor": 5
}
