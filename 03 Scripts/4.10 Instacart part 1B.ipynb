{
 "cells": [
  {
   "cell_type": "markdown",
   "id": "1b020b19",
   "metadata": {},
   "source": [
    "# Deriving Customer Insights"
   ]
  },
  {
   "cell_type": "markdown",
   "id": "b185705a",
   "metadata": {},
   "source": [
    "# Script contains:\n",
    "## Importing Libraries and Data\n",
    "## Creating intuitive variable groups (age, income, parental status)\n",
    "## Checking and confirming new variable types\n",
    "## changing variable types \n",
    "## Deriving Insights:\n",
    "### crosstab of age_range & income_bracket variables\n",
    "### crosstab of age_range & parental_status variables\n",
    "### crosstab of age_range & order_hour_of_day variables\n",
    "### crosstab parental status & order frequency\n",
    "### crosstab of age_range & spending_habit\n",
    "### crosstab department_id & income_bracket"
   ]
  },
  {
   "cell_type": "markdown",
   "id": "a264ffff",
   "metadata": {},
   "source": [
    "## Import Libraries"
   ]
  },
  {
   "cell_type": "code",
   "execution_count": 2,
   "id": "360bc677",
   "metadata": {},
   "outputs": [],
   "source": [
    "import pandas as pd\n",
    "import numpy as np\n",
    "import os"
   ]
  },
  {
   "cell_type": "markdown",
   "id": "66a2bb8e",
   "metadata": {},
   "source": [
    "## Import Data"
   ]
  },
  {
   "cell_type": "code",
   "execution_count": 3,
   "id": "2554949d",
   "metadata": {},
   "outputs": [],
   "source": [
    "path = r'C:\\Users\\Bradley Allen\\Desktop\\Instacart Basket Analysis'"
   ]
  },
  {
   "cell_type": "code",
   "execution_count": 4,
   "id": "912426da",
   "metadata": {},
   "outputs": [],
   "source": [
    "final_df = pd.read_pickle(os.path.join(path, '02 Data', 'Prepared Data', 'Instacart_final.pkl'))"
   ]
  },
  {
   "cell_type": "code",
   "execution_count": 5,
   "id": "3fe3bdf8",
   "metadata": {},
   "outputs": [
    {
     "data": {
      "text/html": [
       "<div>\n",
       "<style scoped>\n",
       "    .dataframe tbody tr th:only-of-type {\n",
       "        vertical-align: middle;\n",
       "    }\n",
       "\n",
       "    .dataframe tbody tr th {\n",
       "        vertical-align: top;\n",
       "    }\n",
       "\n",
       "    .dataframe thead th {\n",
       "        text-align: right;\n",
       "    }\n",
       "</style>\n",
       "<table border=\"1\" class=\"dataframe\">\n",
       "  <thead>\n",
       "    <tr style=\"text-align: right;\">\n",
       "      <th></th>\n",
       "      <th>order_id</th>\n",
       "      <th>user_id</th>\n",
       "      <th>order_number</th>\n",
       "      <th>orders_day_of_week</th>\n",
       "      <th>order_hour_of_day</th>\n",
       "      <th>days_since_prior_order</th>\n",
       "      <th>first_order</th>\n",
       "      <th>product_id</th>\n",
       "      <th>add_to_cart_order</th>\n",
       "      <th>product_name</th>\n",
       "      <th>...</th>\n",
       "      <th>gender</th>\n",
       "      <th>state</th>\n",
       "      <th>age</th>\n",
       "      <th>date_joined</th>\n",
       "      <th>n_dependants</th>\n",
       "      <th>fam_status</th>\n",
       "      <th>income</th>\n",
       "      <th>_merge</th>\n",
       "      <th>region</th>\n",
       "      <th>exclusion_flag</th>\n",
       "    </tr>\n",
       "  </thead>\n",
       "  <tbody>\n",
       "    <tr>\n",
       "      <th>0</th>\n",
       "      <td>2539329</td>\n",
       "      <td>1</td>\n",
       "      <td>1</td>\n",
       "      <td>2</td>\n",
       "      <td>8</td>\n",
       "      <td>NaN</td>\n",
       "      <td>True</td>\n",
       "      <td>196</td>\n",
       "      <td>1</td>\n",
       "      <td>Soda</td>\n",
       "      <td>...</td>\n",
       "      <td>Female</td>\n",
       "      <td>Alabama</td>\n",
       "      <td>31</td>\n",
       "      <td>2/17/2019</td>\n",
       "      <td>3</td>\n",
       "      <td>married</td>\n",
       "      <td>40423</td>\n",
       "      <td>both</td>\n",
       "      <td>South</td>\n",
       "      <td>Frequent Customer</td>\n",
       "    </tr>\n",
       "    <tr>\n",
       "      <th>1</th>\n",
       "      <td>2539329</td>\n",
       "      <td>1</td>\n",
       "      <td>1</td>\n",
       "      <td>2</td>\n",
       "      <td>8</td>\n",
       "      <td>NaN</td>\n",
       "      <td>True</td>\n",
       "      <td>12427</td>\n",
       "      <td>3</td>\n",
       "      <td>Original Beef Jerky</td>\n",
       "      <td>...</td>\n",
       "      <td>Female</td>\n",
       "      <td>Alabama</td>\n",
       "      <td>31</td>\n",
       "      <td>2/17/2019</td>\n",
       "      <td>3</td>\n",
       "      <td>married</td>\n",
       "      <td>40423</td>\n",
       "      <td>both</td>\n",
       "      <td>South</td>\n",
       "      <td>Frequent Customer</td>\n",
       "    </tr>\n",
       "    <tr>\n",
       "      <th>2</th>\n",
       "      <td>2398795</td>\n",
       "      <td>1</td>\n",
       "      <td>2</td>\n",
       "      <td>3</td>\n",
       "      <td>7</td>\n",
       "      <td>15.0</td>\n",
       "      <td>False</td>\n",
       "      <td>10258</td>\n",
       "      <td>2</td>\n",
       "      <td>Pistachios</td>\n",
       "      <td>...</td>\n",
       "      <td>Female</td>\n",
       "      <td>Alabama</td>\n",
       "      <td>31</td>\n",
       "      <td>2/17/2019</td>\n",
       "      <td>3</td>\n",
       "      <td>married</td>\n",
       "      <td>40423</td>\n",
       "      <td>both</td>\n",
       "      <td>South</td>\n",
       "      <td>Frequent Customer</td>\n",
       "    </tr>\n",
       "    <tr>\n",
       "      <th>3</th>\n",
       "      <td>473747</td>\n",
       "      <td>1</td>\n",
       "      <td>3</td>\n",
       "      <td>3</td>\n",
       "      <td>12</td>\n",
       "      <td>21.0</td>\n",
       "      <td>False</td>\n",
       "      <td>12427</td>\n",
       "      <td>2</td>\n",
       "      <td>Original Beef Jerky</td>\n",
       "      <td>...</td>\n",
       "      <td>Female</td>\n",
       "      <td>Alabama</td>\n",
       "      <td>31</td>\n",
       "      <td>2/17/2019</td>\n",
       "      <td>3</td>\n",
       "      <td>married</td>\n",
       "      <td>40423</td>\n",
       "      <td>both</td>\n",
       "      <td>South</td>\n",
       "      <td>Frequent Customer</td>\n",
       "    </tr>\n",
       "    <tr>\n",
       "      <th>4</th>\n",
       "      <td>473747</td>\n",
       "      <td>1</td>\n",
       "      <td>3</td>\n",
       "      <td>3</td>\n",
       "      <td>12</td>\n",
       "      <td>21.0</td>\n",
       "      <td>False</td>\n",
       "      <td>10258</td>\n",
       "      <td>3</td>\n",
       "      <td>Pistachios</td>\n",
       "      <td>...</td>\n",
       "      <td>Female</td>\n",
       "      <td>Alabama</td>\n",
       "      <td>31</td>\n",
       "      <td>2/17/2019</td>\n",
       "      <td>3</td>\n",
       "      <td>married</td>\n",
       "      <td>40423</td>\n",
       "      <td>both</td>\n",
       "      <td>South</td>\n",
       "      <td>Frequent Customer</td>\n",
       "    </tr>\n",
       "  </tbody>\n",
       "</table>\n",
       "<p>5 rows × 28 columns</p>\n",
       "</div>"
      ],
      "text/plain": [
       "   order_id  user_id  order_number  orders_day_of_week  order_hour_of_day  \\\n",
       "0   2539329        1             1                   2                  8   \n",
       "1   2539329        1             1                   2                  8   \n",
       "2   2398795        1             2                   3                  7   \n",
       "3    473747        1             3                   3                 12   \n",
       "4    473747        1             3                   3                 12   \n",
       "\n",
       "   days_since_prior_order  first_order  product_id  add_to_cart_order  \\\n",
       "0                     NaN         True         196                  1   \n",
       "1                     NaN         True       12427                  3   \n",
       "2                    15.0        False       10258                  2   \n",
       "3                    21.0        False       12427                  2   \n",
       "4                    21.0        False       10258                  3   \n",
       "\n",
       "          product_name  ...  gender    state  age  date_joined n_dependants  \\\n",
       "0                 Soda  ...  Female  Alabama   31    2/17/2019            3   \n",
       "1  Original Beef Jerky  ...  Female  Alabama   31    2/17/2019            3   \n",
       "2           Pistachios  ...  Female  Alabama   31    2/17/2019            3   \n",
       "3  Original Beef Jerky  ...  Female  Alabama   31    2/17/2019            3   \n",
       "4           Pistachios  ...  Female  Alabama   31    2/17/2019            3   \n",
       "\n",
       "   fam_status income _merge region     exclusion_flag  \n",
       "0     married  40423   both  South  Frequent Customer  \n",
       "1     married  40423   both  South  Frequent Customer  \n",
       "2     married  40423   both  South  Frequent Customer  \n",
       "3     married  40423   both  South  Frequent Customer  \n",
       "4     married  40423   both  South  Frequent Customer  \n",
       "\n",
       "[5 rows x 28 columns]"
      ]
     },
     "execution_count": 5,
     "metadata": {},
     "output_type": "execute_result"
    }
   ],
   "source": [
    "final_df.head()"
   ]
  },
  {
   "cell_type": "code",
   "execution_count": 6,
   "id": "1ed583e6",
   "metadata": {},
   "outputs": [
    {
     "data": {
      "text/plain": [
       "(6164429, 28)"
      ]
     },
     "execution_count": 6,
     "metadata": {},
     "output_type": "execute_result"
    }
   ],
   "source": [
    "final_df.shape"
   ]
  },
  {
   "cell_type": "markdown",
   "id": "40f58af2",
   "metadata": {},
   "source": [
    "## Creating intuitive Variable groups"
   ]
  },
  {
   "cell_type": "markdown",
   "id": "ec7a3daa",
   "metadata": {},
   "source": [
    "### age ranges"
   ]
  },
  {
   "cell_type": "code",
   "execution_count": 9,
   "id": "1ea28e49",
   "metadata": {},
   "outputs": [
    {
     "data": {
      "text/plain": [
       "18"
      ]
     },
     "execution_count": 9,
     "metadata": {},
     "output_type": "execute_result"
    }
   ],
   "source": [
    "final_df['age'].min()"
   ]
  },
  {
   "cell_type": "code",
   "execution_count": 10,
   "id": "fa53ed5c",
   "metadata": {},
   "outputs": [
    {
     "data": {
      "text/plain": [
       "81"
      ]
     },
     "execution_count": 10,
     "metadata": {},
     "output_type": "execute_result"
    }
   ],
   "source": [
    "final_df['age'].max()"
   ]
  },
  {
   "cell_type": "code",
   "execution_count": 11,
   "id": "71410fc9",
   "metadata": {},
   "outputs": [],
   "source": [
    "# create flag for ages under 20\n",
    "final_df.loc[(final_df['age'] <= 19), 'age_range'] = '<19'"
   ]
  },
  {
   "cell_type": "code",
   "execution_count": 12,
   "id": "dd8b4151",
   "metadata": {},
   "outputs": [],
   "source": [
    "# create age range for 20-29\n",
    "final_df.loc[(final_df['age'] > 19) & (final_df['age'] <= 29), 'age_range'] = '20-29'"
   ]
  },
  {
   "cell_type": "code",
   "execution_count": 13,
   "id": "d0e9a73a",
   "metadata": {},
   "outputs": [],
   "source": [
    "# 30-39 group\n",
    "final_df.loc[(final_df['age'] > 29) & (final_df['age'] <= 39), 'age_range'] = '30-39'"
   ]
  },
  {
   "cell_type": "code",
   "execution_count": 14,
   "id": "f3ce5493",
   "metadata": {},
   "outputs": [],
   "source": [
    "# 40-49\n",
    "final_df.loc[(final_df['age'] > 39) & (final_df['age'] <= 49), 'age_range'] = '40-49'"
   ]
  },
  {
   "cell_type": "code",
   "execution_count": 15,
   "id": "c59a515b",
   "metadata": {},
   "outputs": [],
   "source": [
    "# 50-59\n",
    "final_df.loc[(final_df['age'] > 49) & (final_df['age'] <= 59), 'age_range'] = '50-59'"
   ]
  },
  {
   "cell_type": "code",
   "execution_count": 16,
   "id": "8359078c",
   "metadata": {},
   "outputs": [],
   "source": [
    "# 60-69\n",
    "final_df.loc[(final_df['age'] > 59) & (final_df['age'] <= 69), 'age_range'] = '60-69'"
   ]
  },
  {
   "cell_type": "code",
   "execution_count": 17,
   "id": "f0ea088a",
   "metadata": {},
   "outputs": [],
   "source": [
    "# 70-79\n",
    "final_df.loc[(final_df['age'] > 69) & (final_df['age'] <= 79), 'age_range'] = '70-79'"
   ]
  },
  {
   "cell_type": "code",
   "execution_count": 18,
   "id": "9885516f",
   "metadata": {},
   "outputs": [],
   "source": [
    "# 80+\n",
    "final_df.loc[(final_df['age'] >= 80), 'age_range'] = '80+'"
   ]
  },
  {
   "cell_type": "code",
   "execution_count": 19,
   "id": "5c4b88c1",
   "metadata": {},
   "outputs": [
    {
     "data": {
      "text/plain": [
       "20-29    963285\n",
       "30-39    965210\n",
       "40-49    972762\n",
       "50-59    964081\n",
       "60-69    948218\n",
       "70-79    962148\n",
       "80+      194802\n",
       "<19      193923\n",
       "Name: age_range, dtype: int64"
      ]
     },
     "execution_count": 19,
     "metadata": {},
     "output_type": "execute_result"
    }
   ],
   "source": [
    "# checking age_range flag establishment\n",
    "final_df['age_range'].value_counts().sort_index()"
   ]
  },
  {
   "cell_type": "code",
   "execution_count": 20,
   "id": "4048f4e5",
   "metadata": {},
   "outputs": [
    {
     "data": {
      "text/html": [
       "<div>\n",
       "<style scoped>\n",
       "    .dataframe tbody tr th:only-of-type {\n",
       "        vertical-align: middle;\n",
       "    }\n",
       "\n",
       "    .dataframe tbody tr th {\n",
       "        vertical-align: top;\n",
       "    }\n",
       "\n",
       "    .dataframe thead th {\n",
       "        text-align: right;\n",
       "    }\n",
       "</style>\n",
       "<table border=\"1\" class=\"dataframe\">\n",
       "  <thead>\n",
       "    <tr style=\"text-align: right;\">\n",
       "      <th></th>\n",
       "      <th>age</th>\n",
       "      <th>age_range</th>\n",
       "    </tr>\n",
       "  </thead>\n",
       "  <tbody>\n",
       "    <tr>\n",
       "      <th>0</th>\n",
       "      <td>31</td>\n",
       "      <td>30-39</td>\n",
       "    </tr>\n",
       "    <tr>\n",
       "      <th>1</th>\n",
       "      <td>31</td>\n",
       "      <td>30-39</td>\n",
       "    </tr>\n",
       "    <tr>\n",
       "      <th>2</th>\n",
       "      <td>31</td>\n",
       "      <td>30-39</td>\n",
       "    </tr>\n",
       "    <tr>\n",
       "      <th>3</th>\n",
       "      <td>31</td>\n",
       "      <td>30-39</td>\n",
       "    </tr>\n",
       "    <tr>\n",
       "      <th>4</th>\n",
       "      <td>31</td>\n",
       "      <td>30-39</td>\n",
       "    </tr>\n",
       "  </tbody>\n",
       "</table>\n",
       "</div>"
      ],
      "text/plain": [
       "   age age_range\n",
       "0   31     30-39\n",
       "1   31     30-39\n",
       "2   31     30-39\n",
       "3   31     30-39\n",
       "4   31     30-39"
      ]
     },
     "execution_count": 20,
     "metadata": {},
     "output_type": "execute_result"
    }
   ],
   "source": [
    "final_df[['age', 'age_range']].head()"
   ]
  },
  {
   "cell_type": "code",
   "execution_count": 21,
   "id": "4147e8cb",
   "metadata": {},
   "outputs": [
    {
     "data": {
      "text/html": [
       "<div>\n",
       "<style scoped>\n",
       "    .dataframe tbody tr th:only-of-type {\n",
       "        vertical-align: middle;\n",
       "    }\n",
       "\n",
       "    .dataframe tbody tr th {\n",
       "        vertical-align: top;\n",
       "    }\n",
       "\n",
       "    .dataframe thead th {\n",
       "        text-align: right;\n",
       "    }\n",
       "</style>\n",
       "<table border=\"1\" class=\"dataframe\">\n",
       "  <thead>\n",
       "    <tr style=\"text-align: right;\">\n",
       "      <th></th>\n",
       "      <th>age</th>\n",
       "      <th>age_range</th>\n",
       "    </tr>\n",
       "  </thead>\n",
       "  <tbody>\n",
       "    <tr>\n",
       "      <th>6480161</th>\n",
       "      <td>74</td>\n",
       "      <td>70-79</td>\n",
       "    </tr>\n",
       "    <tr>\n",
       "      <th>6480162</th>\n",
       "      <td>74</td>\n",
       "      <td>70-79</td>\n",
       "    </tr>\n",
       "    <tr>\n",
       "      <th>6480163</th>\n",
       "      <td>74</td>\n",
       "      <td>70-79</td>\n",
       "    </tr>\n",
       "    <tr>\n",
       "      <th>6480164</th>\n",
       "      <td>74</td>\n",
       "      <td>70-79</td>\n",
       "    </tr>\n",
       "    <tr>\n",
       "      <th>6480165</th>\n",
       "      <td>74</td>\n",
       "      <td>70-79</td>\n",
       "    </tr>\n",
       "  </tbody>\n",
       "</table>\n",
       "</div>"
      ],
      "text/plain": [
       "         age age_range\n",
       "6480161   74     70-79\n",
       "6480162   74     70-79\n",
       "6480163   74     70-79\n",
       "6480164   74     70-79\n",
       "6480165   74     70-79"
      ]
     },
     "execution_count": 21,
     "metadata": {},
     "output_type": "execute_result"
    }
   ],
   "source": [
    "final_df[['age', 'age_range']].tail()"
   ]
  },
  {
   "cell_type": "markdown",
   "id": "e9ccf354",
   "metadata": {},
   "source": [
    "### Creating Income groups"
   ]
  },
  {
   "cell_type": "code",
   "execution_count": 22,
   "id": "373fe89e",
   "metadata": {},
   "outputs": [
    {
     "data": {
      "text/plain": [
       "25903"
      ]
     },
     "execution_count": 22,
     "metadata": {},
     "output_type": "execute_result"
    }
   ],
   "source": [
    "final_df['income'].min()"
   ]
  },
  {
   "cell_type": "code",
   "execution_count": 23,
   "id": "5b3136ff",
   "metadata": {},
   "outputs": [
    {
     "data": {
      "text/plain": [
       "593901"
      ]
     },
     "execution_count": 23,
     "metadata": {},
     "output_type": "execute_result"
    }
   ],
   "source": [
    "final_df['income'].max()"
   ]
  },
  {
   "cell_type": "code",
   "execution_count": 24,
   "id": "6ac43519",
   "metadata": {},
   "outputs": [],
   "source": [
    "# income less than 100,000\n",
    "final_df.loc[(final_df['income'] <= 99999), 'income_bracket'] = '<100000'"
   ]
  },
  {
   "cell_type": "code",
   "execution_count": 25,
   "id": "d852fdde",
   "metadata": {},
   "outputs": [],
   "source": [
    "# 100,000-199,999\n",
    "final_df.loc[(final_df['income'] > 99999) & (final_df['income'] <= 199999), 'income_bracket'] = '100000-199999'"
   ]
  },
  {
   "cell_type": "code",
   "execution_count": 26,
   "id": "8fa2702b",
   "metadata": {},
   "outputs": [],
   "source": [
    "# 200,000-299,999\n",
    "final_df.loc[(final_df['income'] > 199999) & (final_df['income'] <= 299999), 'income_bracket'] = '200000-299999'"
   ]
  },
  {
   "cell_type": "code",
   "execution_count": 27,
   "id": "3375dbb2",
   "metadata": {},
   "outputs": [],
   "source": [
    "# 300,000-399,999\n",
    "final_df.loc[(final_df['income'] > 299999) & (final_df['income'] <= 399999), 'income_bracket'] = '300000-399999'"
   ]
  },
  {
   "cell_type": "code",
   "execution_count": 28,
   "id": "642c99df",
   "metadata": {},
   "outputs": [],
   "source": [
    "# 400,000-499,999\n",
    "final_df.loc[(final_df['income'] > 399999) & (final_df['income'] <= 499999), 'income_bracket'] = '400000-499999'"
   ]
  },
  {
   "cell_type": "code",
   "execution_count": 31,
   "id": "5c4d0a01",
   "metadata": {},
   "outputs": [],
   "source": [
    "# 500,000+\n",
    "final_df.loc[(final_df['income'] >= 500000), 'income_bracket'] = '>500000'"
   ]
  },
  {
   "cell_type": "code",
   "execution_count": 32,
   "id": "34f87b57",
   "metadata": {},
   "outputs": [
    {
     "data": {
      "text/plain": [
       "100000-199999    2779273\n",
       "200000-299999      30633\n",
       "300000-399999      10470\n",
       "400000-499999       5627\n",
       "<100000          3334720\n",
       ">500000             3706\n",
       "Name: income_bracket, dtype: int64"
      ]
     },
     "execution_count": 32,
     "metadata": {},
     "output_type": "execute_result"
    }
   ],
   "source": [
    "# Check income bracket flag\n",
    "final_df['income_bracket'].value_counts().sort_index()"
   ]
  },
  {
   "cell_type": "code",
   "execution_count": 33,
   "id": "764598d7",
   "metadata": {},
   "outputs": [
    {
     "data": {
      "text/html": [
       "<div>\n",
       "<style scoped>\n",
       "    .dataframe tbody tr th:only-of-type {\n",
       "        vertical-align: middle;\n",
       "    }\n",
       "\n",
       "    .dataframe tbody tr th {\n",
       "        vertical-align: top;\n",
       "    }\n",
       "\n",
       "    .dataframe thead th {\n",
       "        text-align: right;\n",
       "    }\n",
       "</style>\n",
       "<table border=\"1\" class=\"dataframe\">\n",
       "  <thead>\n",
       "    <tr style=\"text-align: right;\">\n",
       "      <th></th>\n",
       "      <th>income</th>\n",
       "      <th>income_bracket</th>\n",
       "    </tr>\n",
       "  </thead>\n",
       "  <tbody>\n",
       "    <tr>\n",
       "      <th>0</th>\n",
       "      <td>40423</td>\n",
       "      <td>&lt;100000</td>\n",
       "    </tr>\n",
       "    <tr>\n",
       "      <th>1</th>\n",
       "      <td>40423</td>\n",
       "      <td>&lt;100000</td>\n",
       "    </tr>\n",
       "    <tr>\n",
       "      <th>2</th>\n",
       "      <td>40423</td>\n",
       "      <td>&lt;100000</td>\n",
       "    </tr>\n",
       "    <tr>\n",
       "      <th>3</th>\n",
       "      <td>40423</td>\n",
       "      <td>&lt;100000</td>\n",
       "    </tr>\n",
       "    <tr>\n",
       "      <th>4</th>\n",
       "      <td>40423</td>\n",
       "      <td>&lt;100000</td>\n",
       "    </tr>\n",
       "  </tbody>\n",
       "</table>\n",
       "</div>"
      ],
      "text/plain": [
       "   income income_bracket\n",
       "0   40423        <100000\n",
       "1   40423        <100000\n",
       "2   40423        <100000\n",
       "3   40423        <100000\n",
       "4   40423        <100000"
      ]
     },
     "execution_count": 33,
     "metadata": {},
     "output_type": "execute_result"
    }
   ],
   "source": [
    "final_df[['income', 'income_bracket']].head()"
   ]
  },
  {
   "cell_type": "markdown",
   "id": "0e7d4256",
   "metadata": {},
   "source": [
    "## Parental Status Groups"
   ]
  },
  {
   "cell_type": "code",
   "execution_count": 34,
   "id": "8eeb2715",
   "metadata": {},
   "outputs": [
    {
     "data": {
      "text/plain": [
       "0    1540064\n",
       "1    1537718\n",
       "2    1537957\n",
       "3    1548690\n",
       "Name: n_dependants, dtype: int64"
      ]
     },
     "execution_count": 34,
     "metadata": {},
     "output_type": "execute_result"
    }
   ],
   "source": [
    "# checking dependant numbers\n",
    "final_df['n_dependants'].value_counts().sort_index()"
   ]
  },
  {
   "cell_type": "code",
   "execution_count": 35,
   "id": "d6a819e6",
   "metadata": {},
   "outputs": [],
   "source": [
    "# flag 1+ children\n",
    "final_df.loc[(final_df['n_dependants'] >= 1), 'parental_status'] = 'Parent'"
   ]
  },
  {
   "cell_type": "code",
   "execution_count": 37,
   "id": "b2231876",
   "metadata": {},
   "outputs": [],
   "source": [
    "# flagging non-parents (0 children)\n",
    "final_df.loc[(final_df['n_dependants'] == 0), 'parental_status'] = 'Non-parent'"
   ]
  },
  {
   "cell_type": "code",
   "execution_count": 38,
   "id": "f5915fdc",
   "metadata": {},
   "outputs": [
    {
     "data": {
      "text/plain": [
       "Non-parent    1540064\n",
       "Parent        4624365\n",
       "Name: parental_status, dtype: int64"
      ]
     },
     "execution_count": 38,
     "metadata": {},
     "output_type": "execute_result"
    }
   ],
   "source": [
    "# check parental_status \n",
    "final_df['parental_status'].value_counts().sort_index()"
   ]
  },
  {
   "cell_type": "code",
   "execution_count": 39,
   "id": "ca02d6a3",
   "metadata": {},
   "outputs": [
    {
     "data": {
      "text/html": [
       "<div>\n",
       "<style scoped>\n",
       "    .dataframe tbody tr th:only-of-type {\n",
       "        vertical-align: middle;\n",
       "    }\n",
       "\n",
       "    .dataframe tbody tr th {\n",
       "        vertical-align: top;\n",
       "    }\n",
       "\n",
       "    .dataframe thead th {\n",
       "        text-align: right;\n",
       "    }\n",
       "</style>\n",
       "<table border=\"1\" class=\"dataframe\">\n",
       "  <thead>\n",
       "    <tr style=\"text-align: right;\">\n",
       "      <th></th>\n",
       "      <th>n_dependants</th>\n",
       "      <th>parental_status</th>\n",
       "    </tr>\n",
       "  </thead>\n",
       "  <tbody>\n",
       "    <tr>\n",
       "      <th>0</th>\n",
       "      <td>3</td>\n",
       "      <td>Parent</td>\n",
       "    </tr>\n",
       "    <tr>\n",
       "      <th>1</th>\n",
       "      <td>3</td>\n",
       "      <td>Parent</td>\n",
       "    </tr>\n",
       "    <tr>\n",
       "      <th>2</th>\n",
       "      <td>3</td>\n",
       "      <td>Parent</td>\n",
       "    </tr>\n",
       "    <tr>\n",
       "      <th>3</th>\n",
       "      <td>3</td>\n",
       "      <td>Parent</td>\n",
       "    </tr>\n",
       "    <tr>\n",
       "      <th>4</th>\n",
       "      <td>3</td>\n",
       "      <td>Parent</td>\n",
       "    </tr>\n",
       "  </tbody>\n",
       "</table>\n",
       "</div>"
      ],
      "text/plain": [
       "   n_dependants parental_status\n",
       "0             3          Parent\n",
       "1             3          Parent\n",
       "2             3          Parent\n",
       "3             3          Parent\n",
       "4             3          Parent"
      ]
     },
     "execution_count": 39,
     "metadata": {},
     "output_type": "execute_result"
    }
   ],
   "source": [
    "final_df[['n_dependants', 'parental_status']].head()"
   ]
  },
  {
   "cell_type": "markdown",
   "id": "88bcd4e6",
   "metadata": {},
   "source": [
    "## Check data type of new variables"
   ]
  },
  {
   "cell_type": "code",
   "execution_count": 40,
   "id": "2f6c1a2a",
   "metadata": {},
   "outputs": [
    {
     "data": {
      "text/plain": [
       "age_range          object\n",
       "income_bracket     object\n",
       "parental_status    object\n",
       "dtype: object"
      ]
     },
     "execution_count": 40,
     "metadata": {},
     "output_type": "execute_result"
    }
   ],
   "source": [
    "final_df[['age_range', 'income_bracket', 'parental_status']].dtypes"
   ]
  },
  {
   "cell_type": "code",
   "execution_count": 41,
   "id": "ecbf8f43",
   "metadata": {},
   "outputs": [],
   "source": [
    "#changing to category to optimise memory\n",
    "final_df[['age_range', 'income_bracket', 'parental_status']] = final_df[['age_range', 'income_bracket', 'parental_status']].astype('category')"
   ]
  },
  {
   "cell_type": "code",
   "execution_count": 42,
   "id": "4e38c34a",
   "metadata": {},
   "outputs": [
    {
     "data": {
      "text/plain": [
       "age_range          category\n",
       "income_bracket     category\n",
       "parental_status    category\n",
       "dtype: object"
      ]
     },
     "execution_count": 42,
     "metadata": {},
     "output_type": "execute_result"
    }
   ],
   "source": [
    "final_df[['age_range', 'income_bracket', 'parental_status']].dtypes"
   ]
  },
  {
   "cell_type": "markdown",
   "id": "375c2c2a",
   "metadata": {},
   "source": [
    "## confirm existing variable types"
   ]
  },
  {
   "cell_type": "code",
   "execution_count": 43,
   "id": "9dcb8a57",
   "metadata": {},
   "outputs": [
    {
     "data": {
      "text/plain": [
       "order_id                     int64\n",
       "user_id                      int64\n",
       "order_number                 int64\n",
       "orders_day_of_week           int64\n",
       "order_hour_of_day            int64\n",
       "days_since_prior_order     float64\n",
       "first_order                   bool\n",
       "product_id                   int64\n",
       "add_to_cart_order            int64\n",
       "product_name                object\n",
       "aisle_id                   float64\n",
       "department_id              float64\n",
       "prices                     float64\n",
       "max_order                    int64\n",
       "loyalty_flag                object\n",
       "user_avg_price             float64\n",
       "spending_habit              object\n",
       "order_frequency             object\n",
       "gender                      object\n",
       "state                       object\n",
       "age                          int64\n",
       "date_joined                 object\n",
       "n_dependants                 int64\n",
       "fam_status                  object\n",
       "income                       int64\n",
       "_merge                    category\n",
       "region                    category\n",
       "exclusion_flag            category\n",
       "age_range                 category\n",
       "income_bracket            category\n",
       "parental_status           category\n",
       "dtype: object"
      ]
     },
     "execution_count": 43,
     "metadata": {},
     "output_type": "execute_result"
    }
   ],
   "source": [
    "final_df.dtypes"
   ]
  },
  {
   "cell_type": "markdown",
   "id": "45aae77d",
   "metadata": {},
   "source": [
    "### changing variable types to category to optimise memory"
   ]
  },
  {
   "cell_type": "code",
   "execution_count": 44,
   "id": "0fe7e43a",
   "metadata": {},
   "outputs": [],
   "source": [
    "final_df[['gender', 'state', 'fam_status', 'spending_habit', 'product_name']] = final_df[['gender', 'state', 'fam_status', 'spending_habit', 'product_name']].astype('category')"
   ]
  },
  {
   "cell_type": "code",
   "execution_count": 45,
   "id": "4cb473d5",
   "metadata": {},
   "outputs": [
    {
     "data": {
      "text/plain": [
       "order_id                     int64\n",
       "user_id                      int64\n",
       "order_number                 int64\n",
       "orders_day_of_week           int64\n",
       "order_hour_of_day            int64\n",
       "days_since_prior_order     float64\n",
       "first_order                   bool\n",
       "product_id                   int64\n",
       "add_to_cart_order            int64\n",
       "product_name              category\n",
       "aisle_id                   float64\n",
       "department_id              float64\n",
       "prices                     float64\n",
       "max_order                    int64\n",
       "loyalty_flag                object\n",
       "user_avg_price             float64\n",
       "spending_habit            category\n",
       "order_frequency             object\n",
       "gender                    category\n",
       "state                     category\n",
       "age                          int64\n",
       "date_joined                 object\n",
       "n_dependants                 int64\n",
       "fam_status                category\n",
       "income                       int64\n",
       "_merge                    category\n",
       "region                    category\n",
       "exclusion_flag            category\n",
       "age_range                 category\n",
       "income_bracket            category\n",
       "parental_status           category\n",
       "dtype: object"
      ]
     },
     "execution_count": 45,
     "metadata": {},
     "output_type": "execute_result"
    }
   ],
   "source": [
    "final_df.dtypes"
   ]
  },
  {
   "cell_type": "markdown",
   "id": "5f76a0aa",
   "metadata": {},
   "source": [
    "## Data Insights"
   ]
  },
  {
   "cell_type": "code",
   "execution_count": 46,
   "id": "a3870e16",
   "metadata": {},
   "outputs": [],
   "source": [
    "# crosstab of age_range & income_bracket variables\n",
    "xtab_age_income= pd.crosstab(final_df['age_range'], final_df['income_bracket'], dropna = False)"
   ]
  },
  {
   "cell_type": "code",
   "execution_count": 47,
   "id": "dbb0003f",
   "metadata": {},
   "outputs": [
    {
     "data": {
      "text/html": [
       "<div>\n",
       "<style scoped>\n",
       "    .dataframe tbody tr th:only-of-type {\n",
       "        vertical-align: middle;\n",
       "    }\n",
       "\n",
       "    .dataframe tbody tr th {\n",
       "        vertical-align: top;\n",
       "    }\n",
       "\n",
       "    .dataframe thead th {\n",
       "        text-align: right;\n",
       "    }\n",
       "</style>\n",
       "<table border=\"1\" class=\"dataframe\">\n",
       "  <thead>\n",
       "    <tr style=\"text-align: right;\">\n",
       "      <th>income_bracket</th>\n",
       "      <th>100000-199999</th>\n",
       "      <th>200000-299999</th>\n",
       "      <th>300000-399999</th>\n",
       "      <th>400000-499999</th>\n",
       "      <th>&lt;100000</th>\n",
       "      <th>&gt;500000</th>\n",
       "    </tr>\n",
       "    <tr>\n",
       "      <th>age_range</th>\n",
       "      <th></th>\n",
       "      <th></th>\n",
       "      <th></th>\n",
       "      <th></th>\n",
       "      <th></th>\n",
       "      <th></th>\n",
       "    </tr>\n",
       "  </thead>\n",
       "  <tbody>\n",
       "    <tr>\n",
       "      <th>20-29</th>\n",
       "      <td>26961</td>\n",
       "      <td>1323</td>\n",
       "      <td>2058</td>\n",
       "      <td>0</td>\n",
       "      <td>932943</td>\n",
       "      <td>0</td>\n",
       "    </tr>\n",
       "    <tr>\n",
       "      <th>30-39</th>\n",
       "      <td>28097</td>\n",
       "      <td>1847</td>\n",
       "      <td>1832</td>\n",
       "      <td>0</td>\n",
       "      <td>933434</td>\n",
       "      <td>0</td>\n",
       "    </tr>\n",
       "    <tr>\n",
       "      <th>40-49</th>\n",
       "      <td>607087</td>\n",
       "      <td>7994</td>\n",
       "      <td>1278</td>\n",
       "      <td>1843</td>\n",
       "      <td>353445</td>\n",
       "      <td>1115</td>\n",
       "    </tr>\n",
       "    <tr>\n",
       "      <th>50-59</th>\n",
       "      <td>661248</td>\n",
       "      <td>4973</td>\n",
       "      <td>2034</td>\n",
       "      <td>836</td>\n",
       "      <td>294299</td>\n",
       "      <td>691</td>\n",
       "    </tr>\n",
       "    <tr>\n",
       "      <th>60-69</th>\n",
       "      <td>653163</td>\n",
       "      <td>6367</td>\n",
       "      <td>1782</td>\n",
       "      <td>1584</td>\n",
       "      <td>284789</td>\n",
       "      <td>533</td>\n",
       "    </tr>\n",
       "    <tr>\n",
       "      <th>70-79</th>\n",
       "      <td>666785</td>\n",
       "      <td>6192</td>\n",
       "      <td>958</td>\n",
       "      <td>1103</td>\n",
       "      <td>286128</td>\n",
       "      <td>982</td>\n",
       "    </tr>\n",
       "    <tr>\n",
       "      <th>80+</th>\n",
       "      <td>130357</td>\n",
       "      <td>1628</td>\n",
       "      <td>120</td>\n",
       "      <td>261</td>\n",
       "      <td>62051</td>\n",
       "      <td>385</td>\n",
       "    </tr>\n",
       "    <tr>\n",
       "      <th>&lt;19</th>\n",
       "      <td>5575</td>\n",
       "      <td>309</td>\n",
       "      <td>408</td>\n",
       "      <td>0</td>\n",
       "      <td>187631</td>\n",
       "      <td>0</td>\n",
       "    </tr>\n",
       "  </tbody>\n",
       "</table>\n",
       "</div>"
      ],
      "text/plain": [
       "income_bracket  100000-199999  200000-299999  300000-399999  400000-499999  \\\n",
       "age_range                                                                    \n",
       "20-29                   26961           1323           2058              0   \n",
       "30-39                   28097           1847           1832              0   \n",
       "40-49                  607087           7994           1278           1843   \n",
       "50-59                  661248           4973           2034            836   \n",
       "60-69                  653163           6367           1782           1584   \n",
       "70-79                  666785           6192            958           1103   \n",
       "80+                    130357           1628            120            261   \n",
       "<19                      5575            309            408              0   \n",
       "\n",
       "income_bracket  <100000  >500000  \n",
       "age_range                         \n",
       "20-29            932943        0  \n",
       "30-39            933434        0  \n",
       "40-49            353445     1115  \n",
       "50-59            294299      691  \n",
       "60-69            284789      533  \n",
       "70-79            286128      982  \n",
       "80+               62051      385  \n",
       "<19              187631        0  "
      ]
     },
     "execution_count": 47,
     "metadata": {},
     "output_type": "execute_result"
    }
   ],
   "source": [
    "xtab_age_income"
   ]
  },
  {
   "cell_type": "code",
   "execution_count": 48,
   "id": "c0c18784",
   "metadata": {},
   "outputs": [],
   "source": [
    "# crosstab of age_range & parental_status variables"
   ]
  },
  {
   "cell_type": "code",
   "execution_count": 49,
   "id": "ce1e49db",
   "metadata": {},
   "outputs": [],
   "source": [
    "xtab_age_parent = pd.crosstab(final_df['age_range'], final_df['parental_status'], dropna = False)"
   ]
  },
  {
   "cell_type": "code",
   "execution_count": 50,
   "id": "31792975",
   "metadata": {},
   "outputs": [
    {
     "data": {
      "text/html": [
       "<div>\n",
       "<style scoped>\n",
       "    .dataframe tbody tr th:only-of-type {\n",
       "        vertical-align: middle;\n",
       "    }\n",
       "\n",
       "    .dataframe tbody tr th {\n",
       "        vertical-align: top;\n",
       "    }\n",
       "\n",
       "    .dataframe thead th {\n",
       "        text-align: right;\n",
       "    }\n",
       "</style>\n",
       "<table border=\"1\" class=\"dataframe\">\n",
       "  <thead>\n",
       "    <tr style=\"text-align: right;\">\n",
       "      <th>parental_status</th>\n",
       "      <th>Non-parent</th>\n",
       "      <th>Parent</th>\n",
       "    </tr>\n",
       "    <tr>\n",
       "      <th>age_range</th>\n",
       "      <th></th>\n",
       "      <th></th>\n",
       "    </tr>\n",
       "  </thead>\n",
       "  <tbody>\n",
       "    <tr>\n",
       "      <th>20-29</th>\n",
       "      <td>242693</td>\n",
       "      <td>720592</td>\n",
       "    </tr>\n",
       "    <tr>\n",
       "      <th>30-39</th>\n",
       "      <td>241279</td>\n",
       "      <td>723931</td>\n",
       "    </tr>\n",
       "    <tr>\n",
       "      <th>40-49</th>\n",
       "      <td>241531</td>\n",
       "      <td>731231</td>\n",
       "    </tr>\n",
       "    <tr>\n",
       "      <th>50-59</th>\n",
       "      <td>243290</td>\n",
       "      <td>720791</td>\n",
       "    </tr>\n",
       "    <tr>\n",
       "      <th>60-69</th>\n",
       "      <td>239844</td>\n",
       "      <td>708374</td>\n",
       "    </tr>\n",
       "    <tr>\n",
       "      <th>70-79</th>\n",
       "      <td>236229</td>\n",
       "      <td>725919</td>\n",
       "    </tr>\n",
       "    <tr>\n",
       "      <th>80+</th>\n",
       "      <td>50696</td>\n",
       "      <td>144106</td>\n",
       "    </tr>\n",
       "    <tr>\n",
       "      <th>&lt;19</th>\n",
       "      <td>44502</td>\n",
       "      <td>149421</td>\n",
       "    </tr>\n",
       "  </tbody>\n",
       "</table>\n",
       "</div>"
      ],
      "text/plain": [
       "parental_status  Non-parent  Parent\n",
       "age_range                          \n",
       "20-29                242693  720592\n",
       "30-39                241279  723931\n",
       "40-49                241531  731231\n",
       "50-59                243290  720791\n",
       "60-69                239844  708374\n",
       "70-79                236229  725919\n",
       "80+                   50696  144106\n",
       "<19                   44502  149421"
      ]
     },
     "execution_count": 50,
     "metadata": {},
     "output_type": "execute_result"
    }
   ],
   "source": [
    "xtab_age_parent"
   ]
  },
  {
   "cell_type": "code",
   "execution_count": 51,
   "id": "ba5f897b",
   "metadata": {},
   "outputs": [],
   "source": [
    "# crosstab of age_range & order_hour_of_day variables\n",
    "xtab_age_loyalty = pd.crosstab(final_df['age_range'], final_df['loyalty_flag'], dropna = False)"
   ]
  },
  {
   "cell_type": "code",
   "execution_count": 52,
   "id": "e3acd69e",
   "metadata": {},
   "outputs": [
    {
     "data": {
      "text/html": [
       "<div>\n",
       "<style scoped>\n",
       "    .dataframe tbody tr th:only-of-type {\n",
       "        vertical-align: middle;\n",
       "    }\n",
       "\n",
       "    .dataframe tbody tr th {\n",
       "        vertical-align: top;\n",
       "    }\n",
       "\n",
       "    .dataframe thead th {\n",
       "        text-align: right;\n",
       "    }\n",
       "</style>\n",
       "<table border=\"1\" class=\"dataframe\">\n",
       "  <thead>\n",
       "    <tr style=\"text-align: right;\">\n",
       "      <th>loyalty_flag</th>\n",
       "      <th>Loyal customer</th>\n",
       "      <th>New customer</th>\n",
       "      <th>Regular customer</th>\n",
       "    </tr>\n",
       "    <tr>\n",
       "      <th>age_range</th>\n",
       "      <th></th>\n",
       "      <th></th>\n",
       "      <th></th>\n",
       "    </tr>\n",
       "  </thead>\n",
       "  <tbody>\n",
       "    <tr>\n",
       "      <th>20-29</th>\n",
       "      <td>316384</td>\n",
       "      <td>149837</td>\n",
       "      <td>497064</td>\n",
       "    </tr>\n",
       "    <tr>\n",
       "      <th>30-39</th>\n",
       "      <td>319343</td>\n",
       "      <td>147845</td>\n",
       "      <td>498022</td>\n",
       "    </tr>\n",
       "    <tr>\n",
       "      <th>40-49</th>\n",
       "      <td>324398</td>\n",
       "      <td>150160</td>\n",
       "      <td>498204</td>\n",
       "    </tr>\n",
       "    <tr>\n",
       "      <th>50-59</th>\n",
       "      <td>321099</td>\n",
       "      <td>152263</td>\n",
       "      <td>490719</td>\n",
       "    </tr>\n",
       "    <tr>\n",
       "      <th>60-69</th>\n",
       "      <td>314420</td>\n",
       "      <td>150235</td>\n",
       "      <td>483563</td>\n",
       "    </tr>\n",
       "    <tr>\n",
       "      <th>70-79</th>\n",
       "      <td>316223</td>\n",
       "      <td>150904</td>\n",
       "      <td>495021</td>\n",
       "    </tr>\n",
       "    <tr>\n",
       "      <th>80+</th>\n",
       "      <td>66544</td>\n",
       "      <td>29885</td>\n",
       "      <td>98373</td>\n",
       "    </tr>\n",
       "    <tr>\n",
       "      <th>&lt;19</th>\n",
       "      <td>63109</td>\n",
       "      <td>29803</td>\n",
       "      <td>101011</td>\n",
       "    </tr>\n",
       "  </tbody>\n",
       "</table>\n",
       "</div>"
      ],
      "text/plain": [
       "loyalty_flag  Loyal customer  New customer  Regular customer\n",
       "age_range                                                   \n",
       "20-29                 316384        149837            497064\n",
       "30-39                 319343        147845            498022\n",
       "40-49                 324398        150160            498204\n",
       "50-59                 321099        152263            490719\n",
       "60-69                 314420        150235            483563\n",
       "70-79                 316223        150904            495021\n",
       "80+                    66544         29885             98373\n",
       "<19                    63109         29803            101011"
      ]
     },
     "execution_count": 52,
     "metadata": {},
     "output_type": "execute_result"
    }
   ],
   "source": [
    "xtab_age_loyalty"
   ]
  },
  {
   "cell_type": "code",
   "execution_count": 53,
   "id": "342b1dec",
   "metadata": {},
   "outputs": [],
   "source": [
    "# crosstab parental status & order frequency\n",
    "xtab_parent_freq = pd.crosstab(final_df['parental_status'], final_df['order_frequency'], dropna = False)"
   ]
  },
  {
   "cell_type": "code",
   "execution_count": 54,
   "id": "32416bf1",
   "metadata": {},
   "outputs": [
    {
     "data": {
      "text/html": [
       "<div>\n",
       "<style scoped>\n",
       "    .dataframe tbody tr th:only-of-type {\n",
       "        vertical-align: middle;\n",
       "    }\n",
       "\n",
       "    .dataframe tbody tr th {\n",
       "        vertical-align: top;\n",
       "    }\n",
       "\n",
       "    .dataframe thead th {\n",
       "        text-align: right;\n",
       "    }\n",
       "</style>\n",
       "<table border=\"1\" class=\"dataframe\">\n",
       "  <thead>\n",
       "    <tr style=\"text-align: right;\">\n",
       "      <th>order_frequency</th>\n",
       "      <th>Frequent customer</th>\n",
       "      <th>Non-frequent customer</th>\n",
       "    </tr>\n",
       "    <tr>\n",
       "      <th>parental_status</th>\n",
       "      <th></th>\n",
       "      <th></th>\n",
       "    </tr>\n",
       "  </thead>\n",
       "  <tbody>\n",
       "    <tr>\n",
       "      <th>Non-parent</th>\n",
       "      <td>937535</td>\n",
       "      <td>231979</td>\n",
       "    </tr>\n",
       "    <tr>\n",
       "      <th>Parent</th>\n",
       "      <td>2807614</td>\n",
       "      <td>700198</td>\n",
       "    </tr>\n",
       "  </tbody>\n",
       "</table>\n",
       "</div>"
      ],
      "text/plain": [
       "order_frequency  Frequent customer  Non-frequent customer\n",
       "parental_status                                          \n",
       "Non-parent                  937535                 231979\n",
       "Parent                     2807614                 700198"
      ]
     },
     "execution_count": 54,
     "metadata": {},
     "output_type": "execute_result"
    }
   ],
   "source": [
    "xtab_parent_freq"
   ]
  },
  {
   "cell_type": "code",
   "execution_count": 56,
   "id": "ffc6293c",
   "metadata": {},
   "outputs": [],
   "source": [
    "# crosstab of age_range & spending_habit\n",
    "xtab_age_spender = pd.crosstab(final_df['age_range'], final_df['spending_habit'], dropna = False)"
   ]
  },
  {
   "cell_type": "code",
   "execution_count": 57,
   "id": "d3c034ed",
   "metadata": {},
   "outputs": [
    {
     "data": {
      "text/html": [
       "<div>\n",
       "<style scoped>\n",
       "    .dataframe tbody tr th:only-of-type {\n",
       "        vertical-align: middle;\n",
       "    }\n",
       "\n",
       "    .dataframe tbody tr th {\n",
       "        vertical-align: top;\n",
       "    }\n",
       "\n",
       "    .dataframe thead th {\n",
       "        text-align: right;\n",
       "    }\n",
       "</style>\n",
       "<table border=\"1\" class=\"dataframe\">\n",
       "  <thead>\n",
       "    <tr style=\"text-align: right;\">\n",
       "      <th>spending_habit</th>\n",
       "      <th>Higher spender</th>\n",
       "      <th>Lower spender</th>\n",
       "    </tr>\n",
       "    <tr>\n",
       "      <th>age_range</th>\n",
       "      <th></th>\n",
       "      <th></th>\n",
       "    </tr>\n",
       "  </thead>\n",
       "  <tbody>\n",
       "    <tr>\n",
       "      <th>20-29</th>\n",
       "      <td>12090</td>\n",
       "      <td>951195</td>\n",
       "    </tr>\n",
       "    <tr>\n",
       "      <th>30-39</th>\n",
       "      <td>12159</td>\n",
       "      <td>953051</td>\n",
       "    </tr>\n",
       "    <tr>\n",
       "      <th>40-49</th>\n",
       "      <td>13953</td>\n",
       "      <td>958809</td>\n",
       "    </tr>\n",
       "    <tr>\n",
       "      <th>50-59</th>\n",
       "      <td>12859</td>\n",
       "      <td>951222</td>\n",
       "    </tr>\n",
       "    <tr>\n",
       "      <th>60-69</th>\n",
       "      <td>12707</td>\n",
       "      <td>935511</td>\n",
       "    </tr>\n",
       "    <tr>\n",
       "      <th>70-79</th>\n",
       "      <td>12677</td>\n",
       "      <td>949471</td>\n",
       "    </tr>\n",
       "    <tr>\n",
       "      <th>80+</th>\n",
       "      <td>2499</td>\n",
       "      <td>192303</td>\n",
       "    </tr>\n",
       "    <tr>\n",
       "      <th>&lt;19</th>\n",
       "      <td>2525</td>\n",
       "      <td>191398</td>\n",
       "    </tr>\n",
       "  </tbody>\n",
       "</table>\n",
       "</div>"
      ],
      "text/plain": [
       "spending_habit  Higher spender  Lower spender\n",
       "age_range                                    \n",
       "20-29                    12090         951195\n",
       "30-39                    12159         953051\n",
       "40-49                    13953         958809\n",
       "50-59                    12859         951222\n",
       "60-69                    12707         935511\n",
       "70-79                    12677         949471\n",
       "80+                       2499         192303\n",
       "<19                       2525         191398"
      ]
     },
     "execution_count": 57,
     "metadata": {},
     "output_type": "execute_result"
    }
   ],
   "source": [
    "xtab_age_spender"
   ]
  },
  {
   "cell_type": "code",
   "execution_count": 59,
   "id": "1801056b",
   "metadata": {},
   "outputs": [],
   "source": [
    "# crosstab department_id & income_bracket\n",
    "xtab_deptid_income = pd.crosstab(final_df['department_id'], final_df['income_bracket'], dropna = False)"
   ]
  },
  {
   "cell_type": "code",
   "execution_count": 60,
   "id": "9ce9a537",
   "metadata": {},
   "outputs": [
    {
     "data": {
      "text/html": [
       "<div>\n",
       "<style scoped>\n",
       "    .dataframe tbody tr th:only-of-type {\n",
       "        vertical-align: middle;\n",
       "    }\n",
       "\n",
       "    .dataframe tbody tr th {\n",
       "        vertical-align: top;\n",
       "    }\n",
       "\n",
       "    .dataframe thead th {\n",
       "        text-align: right;\n",
       "    }\n",
       "</style>\n",
       "<table border=\"1\" class=\"dataframe\">\n",
       "  <thead>\n",
       "    <tr style=\"text-align: right;\">\n",
       "      <th>income_bracket</th>\n",
       "      <th>100000-199999</th>\n",
       "      <th>200000-299999</th>\n",
       "      <th>300000-399999</th>\n",
       "      <th>400000-499999</th>\n",
       "      <th>&lt;100000</th>\n",
       "      <th>&gt;500000</th>\n",
       "    </tr>\n",
       "    <tr>\n",
       "      <th>department_id</th>\n",
       "      <th></th>\n",
       "      <th></th>\n",
       "      <th></th>\n",
       "      <th></th>\n",
       "      <th></th>\n",
       "      <th></th>\n",
       "    </tr>\n",
       "  </thead>\n",
       "  <tbody>\n",
       "    <tr>\n",
       "      <th>1.0</th>\n",
       "      <td>192449</td>\n",
       "      <td>2413</td>\n",
       "      <td>903</td>\n",
       "      <td>421</td>\n",
       "      <td>224482</td>\n",
       "      <td>243</td>\n",
       "    </tr>\n",
       "    <tr>\n",
       "      <th>2.0</th>\n",
       "      <td>3061</td>\n",
       "      <td>69</td>\n",
       "      <td>16</td>\n",
       "      <td>11</td>\n",
       "      <td>3659</td>\n",
       "      <td>2</td>\n",
       "    </tr>\n",
       "    <tr>\n",
       "      <th>3.0</th>\n",
       "      <td>102389</td>\n",
       "      <td>1538</td>\n",
       "      <td>534</td>\n",
       "      <td>255</td>\n",
       "      <td>117765</td>\n",
       "      <td>148</td>\n",
       "    </tr>\n",
       "    <tr>\n",
       "      <th>4.0</th>\n",
       "      <td>834318</td>\n",
       "      <td>5835</td>\n",
       "      <td>2124</td>\n",
       "      <td>1011</td>\n",
       "      <td>963955</td>\n",
       "      <td>857</td>\n",
       "    </tr>\n",
       "    <tr>\n",
       "      <th>5.0</th>\n",
       "      <td>12423</td>\n",
       "      <td>681</td>\n",
       "      <td>275</td>\n",
       "      <td>191</td>\n",
       "      <td>14881</td>\n",
       "      <td>109</td>\n",
       "    </tr>\n",
       "    <tr>\n",
       "      <th>6.0</th>\n",
       "      <td>23476</td>\n",
       "      <td>247</td>\n",
       "      <td>74</td>\n",
       "      <td>55</td>\n",
       "      <td>27142</td>\n",
       "      <td>38</td>\n",
       "    </tr>\n",
       "    <tr>\n",
       "      <th>7.0</th>\n",
       "      <td>218497</td>\n",
       "      <td>3085</td>\n",
       "      <td>967</td>\n",
       "      <td>544</td>\n",
       "      <td>287684</td>\n",
       "      <td>322</td>\n",
       "    </tr>\n",
       "    <tr>\n",
       "      <th>8.0</th>\n",
       "      <td>8710</td>\n",
       "      <td>250</td>\n",
       "      <td>77</td>\n",
       "      <td>59</td>\n",
       "      <td>9868</td>\n",
       "      <td>26</td>\n",
       "    </tr>\n",
       "    <tr>\n",
       "      <th>9.0</th>\n",
       "      <td>77077</td>\n",
       "      <td>813</td>\n",
       "      <td>309</td>\n",
       "      <td>133</td>\n",
       "      <td>85581</td>\n",
       "      <td>128</td>\n",
       "    </tr>\n",
       "    <tr>\n",
       "      <th>10.0</th>\n",
       "      <td>2845</td>\n",
       "      <td>6</td>\n",
       "      <td>0</td>\n",
       "      <td>0</td>\n",
       "      <td>3834</td>\n",
       "      <td>1</td>\n",
       "    </tr>\n",
       "    <tr>\n",
       "      <th>11.0</th>\n",
       "      <td>37800</td>\n",
       "      <td>511</td>\n",
       "      <td>181</td>\n",
       "      <td>75</td>\n",
       "      <td>45763</td>\n",
       "      <td>60</td>\n",
       "    </tr>\n",
       "    <tr>\n",
       "      <th>12.0</th>\n",
       "      <td>65742</td>\n",
       "      <td>740</td>\n",
       "      <td>257</td>\n",
       "      <td>148</td>\n",
       "      <td>67742</td>\n",
       "      <td>88</td>\n",
       "    </tr>\n",
       "    <tr>\n",
       "      <th>13.0</th>\n",
       "      <td>164780</td>\n",
       "      <td>1883</td>\n",
       "      <td>706</td>\n",
       "      <td>369</td>\n",
       "      <td>187387</td>\n",
       "      <td>194</td>\n",
       "    </tr>\n",
       "    <tr>\n",
       "      <th>14.0</th>\n",
       "      <td>58143</td>\n",
       "      <td>842</td>\n",
       "      <td>237</td>\n",
       "      <td>127</td>\n",
       "      <td>74835</td>\n",
       "      <td>89</td>\n",
       "    </tr>\n",
       "    <tr>\n",
       "      <th>15.0</th>\n",
       "      <td>94799</td>\n",
       "      <td>1038</td>\n",
       "      <td>409</td>\n",
       "      <td>228</td>\n",
       "      <td>104840</td>\n",
       "      <td>145</td>\n",
       "    </tr>\n",
       "    <tr>\n",
       "      <th>16.0</th>\n",
       "      <td>471389</td>\n",
       "      <td>5265</td>\n",
       "      <td>1604</td>\n",
       "      <td>887</td>\n",
       "      <td>551116</td>\n",
       "      <td>648</td>\n",
       "    </tr>\n",
       "    <tr>\n",
       "      <th>17.0</th>\n",
       "      <td>61024</td>\n",
       "      <td>1428</td>\n",
       "      <td>475</td>\n",
       "      <td>294</td>\n",
       "      <td>75668</td>\n",
       "      <td>182</td>\n",
       "    </tr>\n",
       "    <tr>\n",
       "      <th>18.0</th>\n",
       "      <td>38562</td>\n",
       "      <td>290</td>\n",
       "      <td>71</td>\n",
       "      <td>32</td>\n",
       "      <td>42308</td>\n",
       "      <td>53</td>\n",
       "    </tr>\n",
       "    <tr>\n",
       "      <th>19.0</th>\n",
       "      <td>215659</td>\n",
       "      <td>2786</td>\n",
       "      <td>899</td>\n",
       "      <td>601</td>\n",
       "      <td>331489</td>\n",
       "      <td>293</td>\n",
       "    </tr>\n",
       "    <tr>\n",
       "      <th>20.0</th>\n",
       "      <td>90340</td>\n",
       "      <td>866</td>\n",
       "      <td>337</td>\n",
       "      <td>176</td>\n",
       "      <td>107706</td>\n",
       "      <td>76</td>\n",
       "    </tr>\n",
       "    <tr>\n",
       "      <th>21.0</th>\n",
       "      <td>5790</td>\n",
       "      <td>47</td>\n",
       "      <td>15</td>\n",
       "      <td>10</td>\n",
       "      <td>7015</td>\n",
       "      <td>4</td>\n",
       "    </tr>\n",
       "  </tbody>\n",
       "</table>\n",
       "</div>"
      ],
      "text/plain": [
       "income_bracket  100000-199999  200000-299999  300000-399999  400000-499999  \\\n",
       "department_id                                                                \n",
       "1.0                    192449           2413            903            421   \n",
       "2.0                      3061             69             16             11   \n",
       "3.0                    102389           1538            534            255   \n",
       "4.0                    834318           5835           2124           1011   \n",
       "5.0                     12423            681            275            191   \n",
       "6.0                     23476            247             74             55   \n",
       "7.0                    218497           3085            967            544   \n",
       "8.0                      8710            250             77             59   \n",
       "9.0                     77077            813            309            133   \n",
       "10.0                     2845              6              0              0   \n",
       "11.0                    37800            511            181             75   \n",
       "12.0                    65742            740            257            148   \n",
       "13.0                   164780           1883            706            369   \n",
       "14.0                    58143            842            237            127   \n",
       "15.0                    94799           1038            409            228   \n",
       "16.0                   471389           5265           1604            887   \n",
       "17.0                    61024           1428            475            294   \n",
       "18.0                    38562            290             71             32   \n",
       "19.0                   215659           2786            899            601   \n",
       "20.0                    90340            866            337            176   \n",
       "21.0                     5790             47             15             10   \n",
       "\n",
       "income_bracket  <100000  >500000  \n",
       "department_id                     \n",
       "1.0              224482      243  \n",
       "2.0                3659        2  \n",
       "3.0              117765      148  \n",
       "4.0              963955      857  \n",
       "5.0               14881      109  \n",
       "6.0               27142       38  \n",
       "7.0              287684      322  \n",
       "8.0                9868       26  \n",
       "9.0               85581      128  \n",
       "10.0               3834        1  \n",
       "11.0              45763       60  \n",
       "12.0              67742       88  \n",
       "13.0             187387      194  \n",
       "14.0              74835       89  \n",
       "15.0             104840      145  \n",
       "16.0             551116      648  \n",
       "17.0              75668      182  \n",
       "18.0              42308       53  \n",
       "19.0             331489      293  \n",
       "20.0             107706       76  \n",
       "21.0               7015        4  "
      ]
     },
     "execution_count": 60,
     "metadata": {},
     "output_type": "execute_result"
    }
   ],
   "source": [
    "xtab_deptid_income"
   ]
  },
  {
   "cell_type": "markdown",
   "id": "5d9e623f",
   "metadata": {},
   "source": [
    "# Export DF"
   ]
  },
  {
   "cell_type": "code",
   "execution_count": 62,
   "id": "cbc2ffa8",
   "metadata": {},
   "outputs": [],
   "source": [
    "final_df.to_pickle(os.path.join(path, '02 Data', 'Prepared Data', 'Instacart_final2.pkl'))"
   ]
  },
  {
   "cell_type": "code",
   "execution_count": null,
   "id": "56b69471",
   "metadata": {},
   "outputs": [],
   "source": []
  }
 ],
 "metadata": {
  "kernelspec": {
   "display_name": "Python 3 (ipykernel)",
   "language": "python",
   "name": "python3"
  },
  "language_info": {
   "codemirror_mode": {
    "name": "ipython",
    "version": 3
   },
   "file_extension": ".py",
   "mimetype": "text/x-python",
   "name": "python",
   "nbconvert_exporter": "python",
   "pygments_lexer": "ipython3",
   "version": "3.9.7"
  }
 },
 "nbformat": 4,
 "nbformat_minor": 5
}
